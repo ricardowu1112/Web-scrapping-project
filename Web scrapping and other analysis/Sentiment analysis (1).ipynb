{
 "cells": [
  {
   "cell_type": "markdown",
   "id": "c771db04",
   "metadata": {},
   "source": [
    "# Part one"
   ]
  },
  {
   "cell_type": "code",
   "execution_count": 127,
   "id": "2873a729",
   "metadata": {},
   "outputs": [],
   "source": [
    "import pandas as pd\n",
    "import matplotlib.pyplot as plot\n",
    "import seaborn as sns"
   ]
  },
  {
   "cell_type": "code",
   "execution_count": 338,
   "id": "bd21cde0",
   "metadata": {},
   "outputs": [],
   "source": [
    "g20=pd.read_csv('D:/Download/notebooks/data/cus_good20.csv',index_col = 0)\n",
    "b20=pd.read_csv('D:/Download/notebooks/data/cus_bad20.csv',index_col = 0)\n"
   ]
  },
  {
   "cell_type": "code",
   "execution_count": 339,
   "id": "22afc4b0",
   "metadata": {},
   "outputs": [],
   "source": [
    "def scoreTC(x):\n",
    "    import re\n",
    "    a = re.search('[\\d.]+', x).group()\n",
    "    return float(a)\n",
    "\n",
    "def scoreRE(x):\n",
    "    import re\n",
    "    a = re.search('[\\d]+ ', x).group()\n",
    "    return float(a)\n",
    "\n",
    "g20['Trust_Score']=g20['Trust_Score'].apply(scoreTC)\n",
    "b20['Trust_Score']=b20['Trust_Score'].apply(scoreTC)\n",
    "g20['No_of_Reviews']=g20['No_of_Reviews'].apply(scoreRE)\n",
    "b20['No_of_Reviews']=b20['No_of_Reviews'].apply(scoreRE)\n",
    "g20['Type']='Good'\n",
    "b20['Type']='Bad'\n",
    "result = pd.concat([g20,b20],ignore_index=True)"
   ]
  },
  {
   "cell_type": "markdown",
   "id": "bcdd913e",
   "metadata": {},
   "source": [
    "### Good and bad reviews count"
   ]
  },
  {
   "cell_type": "code",
   "execution_count": 340,
   "id": "7209ec24",
   "metadata": {},
   "outputs": [
    {
     "data": {
      "text/plain": [
       "Text(0.5, 1.0, 'Good and Bad Reviews Count')"
      ]
     },
     "execution_count": 340,
     "metadata": {},
     "output_type": "execute_result"
    },
    {
     "data": {
      "image/png": "[encoded data removed]",
      "text/plain": [
       "<Figure size 432x288 with 1 Axes>"
      ]
     },
     "metadata": {
      "needs_background": "light"
     },
     "output_type": "display_data"
    }
   ],
   "source": [
    "a=result.groupby('Type')['No_of_Reviews'].mean()\n",
    "cou={'good':int(a[0]),'bad':int(a[1])}\n",
    "types = list(cou.keys())\n",
    "value = list(cou.values())\n",
    "plot.bar(range(len(cou)), value, tick_label=types, color=['tab:orange','tab:purple'])\n",
    "plot.title('Good and Bad Reviews Count')"
   ]
  },
  {
   "cell_type": "markdown",
   "id": "d938b8f5",
   "metadata": {},
   "source": [
    "# Part two"
   ]
  },
  {
   "cell_type": "code",
   "execution_count": 5,
   "id": "a8bc8336",
   "metadata": {},
   "outputs": [
    {
     "data": {
      "text/html": [
       "<div>\n",
       "<style scoped>\n",
       "    .dataframe tbody tr th:only-of-type {\n",
       "        vertical-align: middle;\n",
       "    }\n",
       "\n",
       "    .dataframe tbody tr th {\n",
       "        vertical-align: top;\n",
       "    }\n",
       "\n",
       "    .dataframe thead th {\n",
       "        text-align: right;\n",
       "    }\n",
       "</style>\n",
       "<table border=\"1\" class=\"dataframe\">\n",
       "  <thead>\n",
       "    <tr style=\"text-align: right;\">\n",
       "      <th></th>\n",
       "      <th>Comments</th>\n",
       "    </tr>\n",
       "  </thead>\n",
       "  <tbody>\n",
       "    <tr>\n",
       "      <th>0</th>\n",
       "      <td>All this place does is double the price of Ama...</td>\n",
       "    </tr>\n",
       "    <tr>\n",
       "      <th>1</th>\n",
       "      <td>The jacket purchased for my husband fits perfe...</td>\n",
       "    </tr>\n",
       "    <tr>\n",
       "      <th>2</th>\n",
       "      <td>I received my order from Angel Jackets and hav...</td>\n",
       "    </tr>\n",
       "    <tr>\n",
       "      <th>3</th>\n",
       "      <td>I'm a new customer but am so impressed with th...</td>\n",
       "    </tr>\n",
       "    <tr>\n",
       "      <th>4</th>\n",
       "      <td>It is greatI ordered a leather jacked. I order...</td>\n",
       "    </tr>\n",
       "    <tr>\n",
       "      <th>...</th>\n",
       "      <td>...</td>\n",
       "    </tr>\n",
       "    <tr>\n",
       "      <th>395</th>\n",
       "      <td>Great website and customer service. Very speed...</td>\n",
       "    </tr>\n",
       "    <tr>\n",
       "      <th>396</th>\n",
       "      <td>Luxire has once again been the best service I’...</td>\n",
       "    </tr>\n",
       "    <tr>\n",
       "      <th>397</th>\n",
       "      <td>My first order with Luxire-a pair of trousers ...</td>\n",
       "    </tr>\n",
       "    <tr>\n",
       "      <th>398</th>\n",
       "      <td>Fantastic made-to-measure service. Ordered a c...</td>\n",
       "    </tr>\n",
       "    <tr>\n",
       "      <th>399</th>\n",
       "      <td>The whole process was great and the communicat...</td>\n",
       "    </tr>\n",
       "  </tbody>\n",
       "</table>\n",
       "<p>400 rows × 1 columns</p>\n",
       "</div>"
      ],
      "text/plain": [
       "                                              Comments\n",
       "0    All this place does is double the price of Ama...\n",
       "1    The jacket purchased for my husband fits perfe...\n",
       "2    I received my order from Angel Jackets and hav...\n",
       "3    I'm a new customer but am so impressed with th...\n",
       "4    It is greatI ordered a leather jacked. I order...\n",
       "..                                                 ...\n",
       "395  Great website and customer service. Very speed...\n",
       "396  Luxire has once again been the best service I’...\n",
       "397  My first order with Luxire-a pair of trousers ...\n",
       "398  Fantastic made-to-measure service. Ordered a c...\n",
       "399  The whole process was great and the communicat...\n",
       "\n",
       "[400 rows x 1 columns]"
      ]
     },
     "execution_count": 5,
     "metadata": {},
     "output_type": "execute_result"
    }
   ],
   "source": [
    "import numpy as np\n",
    "Best20=pd.read_csv('D:/Download/notebooks/data/best_comments.csv',index_col=0).reset_index().drop('Number',axis=1)\n",
    "Best20"
   ]
  },
  {
   "cell_type": "markdown",
   "id": "7ea38762",
   "metadata": {},
   "source": [
    "# AFINN score (Sentiment analysis)"
   ]
  },
  {
   "cell_type": "markdown",
   "id": "48a291bc",
   "metadata": {},
   "source": [
    "## Best 20 comments sentiment analysis"
   ]
  },
  {
   "cell_type": "code",
   "execution_count": 6,
   "id": "657309a9",
   "metadata": {},
   "outputs": [
    {
     "data": {
      "text/html": [
       "<div>\n",
       "<style scoped>\n",
       "    .dataframe tbody tr th:only-of-type {\n",
       "        vertical-align: middle;\n",
       "    }\n",
       "\n",
       "    .dataframe tbody tr th {\n",
       "        vertical-align: top;\n",
       "    }\n",
       "\n",
       "    .dataframe thead th {\n",
       "        text-align: right;\n",
       "    }\n",
       "</style>\n",
       "<table border=\"1\" class=\"dataframe\">\n",
       "  <thead>\n",
       "    <tr style=\"text-align: right;\">\n",
       "      <th></th>\n",
       "      <th>Comments</th>\n",
       "      <th>score</th>\n",
       "      <th>wordcount</th>\n",
       "      <th>afinn_adjusted</th>\n",
       "    </tr>\n",
       "  </thead>\n",
       "  <tbody>\n",
       "    <tr>\n",
       "      <th>0</th>\n",
       "      <td>All this place does is double the price of Ama...</td>\n",
       "      <td>1.0</td>\n",
       "      <td>107</td>\n",
       "      <td>0.934579</td>\n",
       "    </tr>\n",
       "    <tr>\n",
       "      <th>1</th>\n",
       "      <td>The jacket purchased for my husband fits perfe...</td>\n",
       "      <td>5.0</td>\n",
       "      <td>47</td>\n",
       "      <td>10.638298</td>\n",
       "    </tr>\n",
       "    <tr>\n",
       "      <th>2</th>\n",
       "      <td>I received my order from Angel Jackets and hav...</td>\n",
       "      <td>12.0</td>\n",
       "      <td>46</td>\n",
       "      <td>26.086957</td>\n",
       "    </tr>\n",
       "    <tr>\n",
       "      <th>3</th>\n",
       "      <td>I'm a new customer but am so impressed with th...</td>\n",
       "      <td>7.0</td>\n",
       "      <td>41</td>\n",
       "      <td>17.073171</td>\n",
       "    </tr>\n",
       "    <tr>\n",
       "      <th>4</th>\n",
       "      <td>It is greatI ordered a leather jacked. I order...</td>\n",
       "      <td>6.0</td>\n",
       "      <td>48</td>\n",
       "      <td>12.500000</td>\n",
       "    </tr>\n",
       "    <tr>\n",
       "      <th>...</th>\n",
       "      <td>...</td>\n",
       "      <td>...</td>\n",
       "      <td>...</td>\n",
       "      <td>...</td>\n",
       "    </tr>\n",
       "    <tr>\n",
       "      <th>395</th>\n",
       "      <td>Great website and customer service. Very speed...</td>\n",
       "      <td>11.0</td>\n",
       "      <td>43</td>\n",
       "      <td>25.581395</td>\n",
       "    </tr>\n",
       "    <tr>\n",
       "      <th>396</th>\n",
       "      <td>Luxire has once again been the best service I’...</td>\n",
       "      <td>19.0</td>\n",
       "      <td>105</td>\n",
       "      <td>18.095238</td>\n",
       "    </tr>\n",
       "    <tr>\n",
       "      <th>397</th>\n",
       "      <td>My first order with Luxire-a pair of trousers ...</td>\n",
       "      <td>13.0</td>\n",
       "      <td>105</td>\n",
       "      <td>12.380952</td>\n",
       "    </tr>\n",
       "    <tr>\n",
       "      <th>398</th>\n",
       "      <td>Fantastic made-to-measure service. Ordered a c...</td>\n",
       "      <td>16.0</td>\n",
       "      <td>98</td>\n",
       "      <td>16.326531</td>\n",
       "    </tr>\n",
       "    <tr>\n",
       "      <th>399</th>\n",
       "      <td>The whole process was great and the communicat...</td>\n",
       "      <td>0.0</td>\n",
       "      <td>47</td>\n",
       "      <td>0.000000</td>\n",
       "    </tr>\n",
       "  </tbody>\n",
       "</table>\n",
       "<p>400 rows × 4 columns</p>\n",
       "</div>"
      ],
      "text/plain": [
       "                                              Comments  score  wordcount  \\\n",
       "0    All this place does is double the price of Ama...    1.0        107   \n",
       "1    The jacket purchased for my husband fits perfe...    5.0         47   \n",
       "2    I received my order from Angel Jackets and hav...   12.0         46   \n",
       "3    I'm a new customer but am so impressed with th...    7.0         41   \n",
       "4    It is greatI ordered a leather jacked. I order...    6.0         48   \n",
       "..                                                 ...    ...        ...   \n",
       "395  Great website and customer service. Very speed...   11.0         43   \n",
       "396  Luxire has once again been the best service I’...   19.0        105   \n",
       "397  My first order with Luxire-a pair of trousers ...   13.0        105   \n",
       "398  Fantastic made-to-measure service. Ordered a c...   16.0         98   \n",
       "399  The whole process was great and the communicat...    0.0         47   \n",
       "\n",
       "     afinn_adjusted  \n",
       "0          0.934579  \n",
       "1         10.638298  \n",
       "2         26.086957  \n",
       "3         17.073171  \n",
       "4         12.500000  \n",
       "..              ...  \n",
       "395       25.581395  \n",
       "396       18.095238  \n",
       "397       12.380952  \n",
       "398       16.326531  \n",
       "399        0.000000  \n",
       "\n",
       "[400 rows x 4 columns]"
      ]
     },
     "execution_count": 6,
     "metadata": {},
     "output_type": "execute_result"
    }
   ],
   "source": [
    "from sklearn.feature_extraction.text import TfidfVectorizer\n",
    "from afinn import Afinn\n",
    "\n",
    "def wordCount(x):\n",
    "    import re\n",
    "    y=re.sub('[^a-zA-Z0-9]',' ',x).strip()\n",
    "    x=y.replace('  ',' ').split(' ')\n",
    "    return len(x)\n",
    "\n",
    "\n",
    "afinn = Afinn(language='en')\n",
    "Best20['score']=Best20['Comments'].apply(afinn.score)\n",
    "Best20['wordcount']=Best20['Comments'].apply(wordCount)\n",
    "Best20['afinn_adjusted'] = Best20['score'] / Best20['wordcount'] * 100\n",
    "Best20"
   ]
  },
  {
   "cell_type": "markdown",
   "id": "2200fb6d",
   "metadata": {},
   "source": [
    "### Best 20 retails only have 16 negative comments"
   ]
  },
  {
   "cell_type": "code",
   "execution_count": 16,
   "id": "8a0ad7b9",
   "metadata": {},
   "outputs": [
    {
     "data": {
      "text/plain": [
       "Comments          16\n",
       "score             16\n",
       "wordcount         16\n",
       "afinn_adjusted    16\n",
       "dtype: int64"
      ]
     },
     "execution_count": 16,
     "metadata": {},
     "output_type": "execute_result"
    }
   ],
   "source": [
    "Best20[Best20.afinn_adjusted<0].count()"
   ]
  },
  {
   "cell_type": "markdown",
   "id": "6cae4986",
   "metadata": {},
   "source": [
    "## Worst 20 retails comments sentiment analysis"
   ]
  },
  {
   "cell_type": "code",
   "execution_count": 21,
   "id": "9efbc64e",
   "metadata": {},
   "outputs": [
    {
     "data": {
      "text/html": [
       "<div>\n",
       "<style scoped>\n",
       "    .dataframe tbody tr th:only-of-type {\n",
       "        vertical-align: middle;\n",
       "    }\n",
       "\n",
       "    .dataframe tbody tr th {\n",
       "        vertical-align: top;\n",
       "    }\n",
       "\n",
       "    .dataframe thead th {\n",
       "        text-align: right;\n",
       "    }\n",
       "</style>\n",
       "<table border=\"1\" class=\"dataframe\">\n",
       "  <thead>\n",
       "    <tr style=\"text-align: right;\">\n",
       "      <th></th>\n",
       "      <th>Comments</th>\n",
       "    </tr>\n",
       "  </thead>\n",
       "  <tbody>\n",
       "    <tr>\n",
       "      <th>0</th>\n",
       "      <td>I bought summer trousers totally satisfied, lo...</td>\n",
       "    </tr>\n",
       "    <tr>\n",
       "      <th>1</th>\n",
       "      <td>Have very good experience with wings Stuff is ...</td>\n",
       "    </tr>\n",
       "    <tr>\n",
       "      <th>2</th>\n",
       "      <td>Product Awesome Packing jst amazing so soft nd...</td>\n",
       "    </tr>\n",
       "    <tr>\n",
       "      <th>3</th>\n",
       "      <td>The best quality with a reasonable price. Outc...</td>\n",
       "    </tr>\n",
       "    <tr>\n",
       "      <th>4</th>\n",
       "      <td>I got a beautiful lovely leather wallet. Packi...</td>\n",
       "    </tr>\n",
       "    <tr>\n",
       "      <th>...</th>\n",
       "      <td>...</td>\n",
       "    </tr>\n",
       "    <tr>\n",
       "      <th>281</th>\n",
       "      <td>Trash Company, avoid like the plague. Ordered ...</td>\n",
       "    </tr>\n",
       "    <tr>\n",
       "      <th>282</th>\n",
       "      <td>Placed an order which was shipped via UPS - or...</td>\n",
       "    </tr>\n",
       "    <tr>\n",
       "      <th>283</th>\n",
       "      <td>Do not buy from campsaver.com.   They sent me ...</td>\n",
       "    </tr>\n",
       "    <tr>\n",
       "      <th>284</th>\n",
       "      <td>This was not a good experience.  I made a larg...</td>\n",
       "    </tr>\n",
       "    <tr>\n",
       "      <th>285</th>\n",
       "      <td>The site promises a 5-10 day delivery window. ...</td>\n",
       "    </tr>\n",
       "  </tbody>\n",
       "</table>\n",
       "<p>286 rows × 1 columns</p>\n",
       "</div>"
      ],
      "text/plain": [
       "                                              Comments\n",
       "0    I bought summer trousers totally satisfied, lo...\n",
       "1    Have very good experience with wings Stuff is ...\n",
       "2    Product Awesome Packing jst amazing so soft nd...\n",
       "3    The best quality with a reasonable price. Outc...\n",
       "4    I got a beautiful lovely leather wallet. Packi...\n",
       "..                                                 ...\n",
       "281  Trash Company, avoid like the plague. Ordered ...\n",
       "282  Placed an order which was shipped via UPS - or...\n",
       "283  Do not buy from campsaver.com.   They sent me ...\n",
       "284  This was not a good experience.  I made a larg...\n",
       "285  The site promises a 5-10 day delivery window. ...\n",
       "\n",
       "[286 rows x 1 columns]"
      ]
     },
     "execution_count": 21,
     "metadata": {},
     "output_type": "execute_result"
    }
   ],
   "source": [
    "import numpy as np\n",
    "Worst20=pd.read_csv('D:/Download/notebooks/data/worst_comments.csv',index_col=0,encoding = 'unicode_escape').reset_index().drop('Number',axis=1)\n",
    "Worst20"
   ]
  },
  {
   "cell_type": "code",
   "execution_count": 23,
   "id": "e65f6718",
   "metadata": {},
   "outputs": [
    {
     "data": {
      "text/html": [
       "<div>\n",
       "<style scoped>\n",
       "    .dataframe tbody tr th:only-of-type {\n",
       "        vertical-align: middle;\n",
       "    }\n",
       "\n",
       "    .dataframe tbody tr th {\n",
       "        vertical-align: top;\n",
       "    }\n",
       "\n",
       "    .dataframe thead th {\n",
       "        text-align: right;\n",
       "    }\n",
       "</style>\n",
       "<table border=\"1\" class=\"dataframe\">\n",
       "  <thead>\n",
       "    <tr style=\"text-align: right;\">\n",
       "      <th></th>\n",
       "      <th>Comments</th>\n",
       "      <th>score</th>\n",
       "      <th>wordcount</th>\n",
       "      <th>afinn_adjusted</th>\n",
       "    </tr>\n",
       "  </thead>\n",
       "  <tbody>\n",
       "    <tr>\n",
       "      <th>0</th>\n",
       "      <td>I bought summer trousers totally satisfied, lo...</td>\n",
       "      <td>7.0</td>\n",
       "      <td>10</td>\n",
       "      <td>70.000000</td>\n",
       "    </tr>\n",
       "    <tr>\n",
       "      <th>1</th>\n",
       "      <td>Have very good experience with wings Stuff is ...</td>\n",
       "      <td>14.0</td>\n",
       "      <td>22</td>\n",
       "      <td>63.636364</td>\n",
       "    </tr>\n",
       "    <tr>\n",
       "      <th>2</th>\n",
       "      <td>Product Awesome Packing jst amazing so soft nd...</td>\n",
       "      <td>16.0</td>\n",
       "      <td>20</td>\n",
       "      <td>80.000000</td>\n",
       "    </tr>\n",
       "    <tr>\n",
       "      <th>3</th>\n",
       "      <td>The best quality with a reasonable price. Outc...</td>\n",
       "      <td>7.0</td>\n",
       "      <td>15</td>\n",
       "      <td>46.666667</td>\n",
       "    </tr>\n",
       "    <tr>\n",
       "      <th>4</th>\n",
       "      <td>I got a beautiful lovely leather wallet. Packi...</td>\n",
       "      <td>6.0</td>\n",
       "      <td>15</td>\n",
       "      <td>40.000000</td>\n",
       "    </tr>\n",
       "    <tr>\n",
       "      <th>...</th>\n",
       "      <td>...</td>\n",
       "      <td>...</td>\n",
       "      <td>...</td>\n",
       "      <td>...</td>\n",
       "    </tr>\n",
       "    <tr>\n",
       "      <th>281</th>\n",
       "      <td>Trash Company, avoid like the plague. Ordered ...</td>\n",
       "      <td>2.0</td>\n",
       "      <td>70</td>\n",
       "      <td>2.857143</td>\n",
       "    </tr>\n",
       "    <tr>\n",
       "      <th>282</th>\n",
       "      <td>Placed an order which was shipped via UPS - or...</td>\n",
       "      <td>-8.0</td>\n",
       "      <td>74</td>\n",
       "      <td>-10.810811</td>\n",
       "    </tr>\n",
       "    <tr>\n",
       "      <th>283</th>\n",
       "      <td>Do not buy from campsaver.com.   They sent me ...</td>\n",
       "      <td>-2.0</td>\n",
       "      <td>83</td>\n",
       "      <td>-2.409639</td>\n",
       "    </tr>\n",
       "    <tr>\n",
       "      <th>284</th>\n",
       "      <td>This was not a good experience.  I made a larg...</td>\n",
       "      <td>1.0</td>\n",
       "      <td>69</td>\n",
       "      <td>1.449275</td>\n",
       "    </tr>\n",
       "    <tr>\n",
       "      <th>285</th>\n",
       "      <td>The site promises a 5-10 day delivery window. ...</td>\n",
       "      <td>-5.0</td>\n",
       "      <td>67</td>\n",
       "      <td>-7.462687</td>\n",
       "    </tr>\n",
       "  </tbody>\n",
       "</table>\n",
       "<p>286 rows × 4 columns</p>\n",
       "</div>"
      ],
      "text/plain": [
       "                                              Comments  score  wordcount  \\\n",
       "0    I bought summer trousers totally satisfied, lo...    7.0         10   \n",
       "1    Have very good experience with wings Stuff is ...   14.0         22   \n",
       "2    Product Awesome Packing jst amazing so soft nd...   16.0         20   \n",
       "3    The best quality with a reasonable price. Outc...    7.0         15   \n",
       "4    I got a beautiful lovely leather wallet. Packi...    6.0         15   \n",
       "..                                                 ...    ...        ...   \n",
       "281  Trash Company, avoid like the plague. Ordered ...    2.0         70   \n",
       "282  Placed an order which was shipped via UPS - or...   -8.0         74   \n",
       "283  Do not buy from campsaver.com.   They sent me ...   -2.0         83   \n",
       "284  This was not a good experience.  I made a larg...    1.0         69   \n",
       "285  The site promises a 5-10 day delivery window. ...   -5.0         67   \n",
       "\n",
       "     afinn_adjusted  \n",
       "0         70.000000  \n",
       "1         63.636364  \n",
       "2         80.000000  \n",
       "3         46.666667  \n",
       "4         40.000000  \n",
       "..              ...  \n",
       "281        2.857143  \n",
       "282      -10.810811  \n",
       "283       -2.409639  \n",
       "284        1.449275  \n",
       "285       -7.462687  \n",
       "\n",
       "[286 rows x 4 columns]"
      ]
     },
     "execution_count": 23,
     "metadata": {},
     "output_type": "execute_result"
    }
   ],
   "source": [
    "afinn = Afinn(language='en')\n",
    "Worst20['score']=Worst20['Comments'].apply(afinn.score)\n",
    "Worst20['wordcount']=Worst20['Comments'].apply(wordCount)\n",
    "Worst20['afinn_adjusted'] = Worst20['score'] / Worst20['wordcount'] * 100\n",
    "Worst20"
   ]
  },
  {
   "cell_type": "markdown",
   "id": "a3dc5d84",
   "metadata": {},
   "source": [
    "### Worst 20 retails have 104 negative comments"
   ]
  },
  {
   "cell_type": "code",
   "execution_count": 24,
   "id": "7af9f2dd",
   "metadata": {},
   "outputs": [
    {
     "data": {
      "text/plain": [
       "Comments          104\n",
       "score             104\n",
       "wordcount         104\n",
       "afinn_adjusted    104\n",
       "dtype: int64"
      ]
     },
     "execution_count": 24,
     "metadata": {},
     "output_type": "execute_result"
    }
   ],
   "source": [
    "Worst20[Worst20.afinn_adjusted<0].count()"
   ]
  },
  {
   "cell_type": "markdown",
   "id": "9c8ee549",
   "metadata": {},
   "source": [
    "# Analysis"
   ]
  },
  {
   "cell_type": "markdown",
   "id": "805324f4",
   "metadata": {},
   "source": [
    "### Randomly sample 5% reviews from best 20"
   ]
  },
  {
   "cell_type": "code",
   "execution_count": 31,
   "id": "7169be97",
   "metadata": {},
   "outputs": [
    {
     "data": {
      "text/html": [
       "<div>\n",
       "<style scoped>\n",
       "    .dataframe tbody tr th:only-of-type {\n",
       "        vertical-align: middle;\n",
       "    }\n",
       "\n",
       "    .dataframe tbody tr th {\n",
       "        vertical-align: top;\n",
       "    }\n",
       "\n",
       "    .dataframe thead th {\n",
       "        text-align: right;\n",
       "    }\n",
       "</style>\n",
       "<table border=\"1\" class=\"dataframe\">\n",
       "  <thead>\n",
       "    <tr style=\"text-align: right;\">\n",
       "      <th></th>\n",
       "      <th>Comments</th>\n",
       "      <th>score</th>\n",
       "      <th>wordcount</th>\n",
       "      <th>afinn_adjusted</th>\n",
       "    </tr>\n",
       "  </thead>\n",
       "  <tbody>\n",
       "    <tr>\n",
       "      <th>228</th>\n",
       "      <td>The pants fall apart after a few washings and ...</td>\n",
       "      <td>-5.0</td>\n",
       "      <td>31</td>\n",
       "      <td>-16.129032</td>\n",
       "    </tr>\n",
       "    <tr>\n",
       "      <th>255</th>\n",
       "      <td>99 times out of 100 and i have ordered over 10...</td>\n",
       "      <td>-4.0</td>\n",
       "      <td>86</td>\n",
       "      <td>-4.651163</td>\n",
       "    </tr>\n",
       "    <tr>\n",
       "      <th>141</th>\n",
       "      <td>I believe Mr. David F must not like me or raci...</td>\n",
       "      <td>-11.0</td>\n",
       "      <td>95</td>\n",
       "      <td>-11.578947</td>\n",
       "    </tr>\n",
       "    <tr>\n",
       "      <th>18</th>\n",
       "      <td>Received an incomplete order. Sended an email ...</td>\n",
       "      <td>-3.0</td>\n",
       "      <td>16</td>\n",
       "      <td>-18.750000</td>\n",
       "    </tr>\n",
       "    <tr>\n",
       "      <th>132</th>\n",
       "      <td>Buyer BewareDo not use this company they are s...</td>\n",
       "      <td>-12.0</td>\n",
       "      <td>80</td>\n",
       "      <td>-15.000000</td>\n",
       "    </tr>\n",
       "  </tbody>\n",
       "</table>\n",
       "</div>"
      ],
      "text/plain": [
       "                                              Comments  score  wordcount  \\\n",
       "228  The pants fall apart after a few washings and ...   -5.0         31   \n",
       "255  99 times out of 100 and i have ordered over 10...   -4.0         86   \n",
       "141  I believe Mr. David F must not like me or raci...  -11.0         95   \n",
       "18   Received an incomplete order. Sended an email ...   -3.0         16   \n",
       "132  Buyer BewareDo not use this company they are s...  -12.0         80   \n",
       "\n",
       "     afinn_adjusted  \n",
       "228      -16.129032  \n",
       "255       -4.651163  \n",
       "141      -11.578947  \n",
       "18       -18.750000  \n",
       "132      -15.000000  "
      ]
     },
     "execution_count": 31,
     "metadata": {},
     "output_type": "execute_result"
    }
   ],
   "source": [
    "Worst20[Worst20.afinn_adjusted<0].sample(frac=0.05)"
   ]
  },
  {
   "cell_type": "markdown",
   "id": "1a576d06",
   "metadata": {},
   "source": [
    "### Randomly sample 5% reviews from worst 20"
   ]
  },
  {
   "cell_type": "code",
   "execution_count": 34,
   "id": "35f9fd3f",
   "metadata": {},
   "outputs": [
    {
     "data": {
      "text/html": [
       "<div>\n",
       "<style scoped>\n",
       "    .dataframe tbody tr th:only-of-type {\n",
       "        vertical-align: middle;\n",
       "    }\n",
       "\n",
       "    .dataframe tbody tr th {\n",
       "        vertical-align: top;\n",
       "    }\n",
       "\n",
       "    .dataframe thead th {\n",
       "        text-align: right;\n",
       "    }\n",
       "</style>\n",
       "<table border=\"1\" class=\"dataframe\">\n",
       "  <thead>\n",
       "    <tr style=\"text-align: right;\">\n",
       "      <th></th>\n",
       "      <th>Comments</th>\n",
       "      <th>score</th>\n",
       "      <th>wordcount</th>\n",
       "      <th>afinn_adjusted</th>\n",
       "    </tr>\n",
       "  </thead>\n",
       "  <tbody>\n",
       "    <tr>\n",
       "      <th>104</th>\n",
       "      <td>They advertise the wrong color for their golde...</td>\n",
       "      <td>-4.0</td>\n",
       "      <td>20</td>\n",
       "      <td>-20.0</td>\n",
       "    </tr>\n",
       "  </tbody>\n",
       "</table>\n",
       "</div>"
      ],
      "text/plain": [
       "                                              Comments  score  wordcount  \\\n",
       "104  They advertise the wrong color for their golde...   -4.0         20   \n",
       "\n",
       "     afinn_adjusted  \n",
       "104           -20.0  "
      ]
     },
     "execution_count": 34,
     "metadata": {},
     "output_type": "execute_result"
    }
   ],
   "source": [
    "Best20[Best20.afinn_adjusted<0].sample(frac=0.05)"
   ]
  },
  {
   "cell_type": "markdown",
   "id": "c53337dd",
   "metadata": {},
   "source": [
    "### Whole data visulization"
   ]
  },
  {
   "cell_type": "code",
   "execution_count": 146,
   "id": "3e024441",
   "metadata": {},
   "outputs": [
    {
     "data": {
      "image/png": "[encoded data removed]",
      "text/plain": [
       "<Figure size 432x288 with 2 Axes>"
      ]
     },
     "metadata": {
      "needs_background": "light"
     },
     "output_type": "display_data"
    }
   ],
   "source": [
    "a00=Best20.afinn_adjusted\n",
    "score00=[float(x) for x in a00]\n",
    "a01=Worst20.afinn_adjusted\n",
    "score01=[float(x) for x in a01]\n",
    "fig,ax = plot.subplots(nrows=1,ncols=2)\n",
    "ax[0].set_title('Best 20 total distribution')\n",
    "parts0 = ax[0].violinplot(score00,quantiles=[0.25,0.5,0.75])\n",
    "ax[1].set_title('Worst 20 total distribution')\n",
    "parts1 = ax[1].violinplot(score01,quantiles=[0.25,0.5,0.75])\n",
    "for pc in parts1['bodies']:\n",
    "    pc.set_facecolor('tab:orange')\n",
    "    pc.set_edgecolor('white')\n",
    "    pc.set_alpha(1)"
   ]
  },
  {
   "cell_type": "markdown",
   "id": "b276ea82",
   "metadata": {},
   "source": [
    "### Positive comments analysis"
   ]
  },
  {
   "cell_type": "code",
   "execution_count": 63,
   "id": "9d2fc9f4",
   "metadata": {},
   "outputs": [
    {
     "name": "stdout",
     "output_type": "stream",
     "text": [
      "Best 20 positive comments mean is: 21.820408841812245\n",
      "Best 20 positive comments max is: 110.00000000000001\n",
      "Best 20 positive comments median is: 16.844864809293718\n",
      "Best 20 positive comments min is: 0.7462686567164178\n"
     ]
    }
   ],
   "source": [
    "Bmean=Best20[Best20.afinn_adjusted>0].afinn_adjusted.mean()\n",
    "Bmin=Best20[Best20.afinn_adjusted>0].afinn_adjusted.min()\n",
    "Bmax=Best20[Best20.afinn_adjusted>0].afinn_adjusted.max()\n",
    "Bmedian=Best20[Best20.afinn_adjusted>0].afinn_adjusted.median()\n",
    "Summarise = {'Best 20 positive comments mean is:':Bmean,'Best 20 positive comments max is:':Bmax,'Best 20 positive comments median is:':Bmedian,'Best 20 positive comments min is:':Bmin}\n",
    "for key in Summarise:\n",
    "    print(key,Summarise[key])"
   ]
  },
  {
   "cell_type": "code",
   "execution_count": 102,
   "id": "36125c57",
   "metadata": {},
   "outputs": [
    {
     "data": {
      "text/plain": [
       "{'bodies': [<matplotlib.collections.PolyCollection at 0x2a2e9eaa070>],\n",
       " 'cmaxes': <matplotlib.collections.LineCollection at 0x2a2e9eaafa0>,\n",
       " 'cmins': <matplotlib.collections.LineCollection at 0x2a2e9eb86a0>,\n",
       " 'cbars': <matplotlib.collections.LineCollection at 0x2a2e9eb8a60>,\n",
       " 'cquantiles': <matplotlib.collections.LineCollection at 0x2a2e9eb8e20>}"
      ]
     },
     "execution_count": 102,
     "metadata": {},
     "output_type": "execute_result"
    },
    {
     "data": {
      "image/png": "[encoded data removed]",
      "text/plain": [
       "<Figure size 432x288 with 1 Axes>"
      ]
     },
     "metadata": {
      "needs_background": "light"
     },
     "output_type": "display_data"
    }
   ],
   "source": [
    "a1=Best20[Best20.afinn_adjusted>0].afinn_adjusted\n",
    "score1=[float(x) for x in a1]\n",
    "fig,ax = plot.subplots()\n",
    "ax.set_title('Positive comments of best 20 analysis')\n",
    "ax.violinplot(score1,quantiles=[0.25,0.5,0.75])"
   ]
  },
  {
   "cell_type": "code",
   "execution_count": 67,
   "id": "c03f0bcb",
   "metadata": {},
   "outputs": [
    {
     "name": "stdout",
     "output_type": "stream",
     "text": [
      "Worst 20 positive comments mean is: 20.590221510482674\n",
      "Worst 20 positive comments max is: 112.5\n",
      "Worst 20 positive comments median is: 12.403846153846153\n",
      "Worst 20 positive comments min is: 1.0101010101010102\n"
     ]
    }
   ],
   "source": [
    "Wmean=Worst20[Worst20.afinn_adjusted>0].afinn_adjusted.mean()\n",
    "Wmin=Worst20[Worst20.afinn_adjusted>0].afinn_adjusted.min()\n",
    "Wmax=Worst20[Worst20.afinn_adjusted>0].afinn_adjusted.max()\n",
    "Wmedian=Worst20[Worst20.afinn_adjusted>0].afinn_adjusted.median()\n",
    "Summarise = {'Worst 20 positive comments mean is:':Wmean,'Worst 20 positive comments max is:':Wmax,'Worst 20 positive comments median is:':Wmedian,'Worst 20 positive comments min is:':Wmin}\n",
    "for key in Summarise:\n",
    "    print(key,Summarise[key])"
   ]
  },
  {
   "cell_type": "code",
   "execution_count": 103,
   "id": "c6f3525a",
   "metadata": {},
   "outputs": [
    {
     "data": {
      "text/plain": [
       "{'bodies': [<matplotlib.collections.PolyCollection at 0x2a2e9f0bd60>],\n",
       " 'cmaxes': <matplotlib.collections.LineCollection at 0x2a2e9f1adf0>,\n",
       " 'cmins': <matplotlib.collections.LineCollection at 0x2a2e9f27400>,\n",
       " 'cbars': <matplotlib.collections.LineCollection at 0x2a2e9f277f0>,\n",
       " 'cquantiles': <matplotlib.collections.LineCollection at 0x2a2e9f27bb0>}"
      ]
     },
     "execution_count": 103,
     "metadata": {},
     "output_type": "execute_result"
    },
    {
     "data": {
      "image/png": "[encoded data removed]",
      "text/plain": [
       "<Figure size 432x288 with 1 Axes>"
      ]
     },
     "metadata": {
      "needs_background": "light"
     },
     "output_type": "display_data"
    }
   ],
   "source": [
    "a2=Worst20[Worst20.afinn_adjusted>0].afinn_adjusted\n",
    "score2=[float(x) for x in a2]\n",
    "fig,ax = plot.subplots()\n",
    "ax.set_title('Positive comments of worst 20 analysis')\n",
    "ax.violinplot(score2,quantiles=[0.25,0.5,0.75])"
   ]
  },
  {
   "cell_type": "code",
   "execution_count": 119,
   "id": "ce04082f",
   "metadata": {},
   "outputs": [
    {
     "data": {
      "image/png": "[encoded data removed]",
      "text/plain": [
       "<Figure size 432x288 with 2 Axes>"
      ]
     },
     "metadata": {
      "needs_background": "light"
     },
     "output_type": "display_data"
    }
   ],
   "source": [
    "fig,ax = plot.subplots(nrows=1,ncols=2)\n",
    "ax[0].set_title('Positive of best 20')\n",
    "parts0 = ax[0].violinplot(score1,quantiles=[0.25,0.5,0.75])\n",
    "ax[1].set_title('Positive of worst 20')\n",
    "#ax[1].violinplot(score2,quantiles=[0.25,0.5,0.75])\n",
    "parts1 = ax[1].violinplot(score2,quantiles=[0.25,0.5,0.75])\n",
    "for pc in parts1['bodies']:\n",
    "    pc.set_facecolor('tab:orange')\n",
    "    pc.set_edgecolor('white')\n",
    "    pc.set_alpha(1)"
   ]
  },
  {
   "cell_type": "markdown",
   "id": "56c54f11",
   "metadata": {},
   "source": [
    "### Negative comments analysis"
   ]
  },
  {
   "cell_type": "code",
   "execution_count": 65,
   "id": "eb5ac544",
   "metadata": {},
   "outputs": [
    {
     "name": "stdout",
     "output_type": "stream",
     "text": [
      "Best 20 negative comments mean is: -6.594482069025773\n",
      "Best 20 negative comments max is: -1.694915254237288\n",
      "Best 20 negative comments median is: -4.967948717948717\n",
      "Best 20 negative comments min is: -20.0\n"
     ]
    }
   ],
   "source": [
    "Bmean=Best20[Best20.afinn_adjusted<0].afinn_adjusted.mean()\n",
    "Bmin=Best20[Best20.afinn_adjusted<0].afinn_adjusted.min()\n",
    "Bmax=Best20[Best20.afinn_adjusted<0].afinn_adjusted.max()\n",
    "Bmedian=Best20[Best20.afinn_adjusted<0].afinn_adjusted.median()\n",
    "Summarise = {'Best 20 negative comments mean is:':Bmean,'Best 20 negative comments max is:':Bmax,'Best 20 negative comments median is:':Bmedian,'Best 20 negative comments min is:':Bmin}\n",
    "for key in Summarise:\n",
    "    print(key,Summarise[key])\n"
   ]
  },
  {
   "cell_type": "code",
   "execution_count": 97,
   "id": "b15d9822",
   "metadata": {},
   "outputs": [
    {
     "data": {
      "text/plain": [
       "{'bodies': [<matplotlib.collections.PolyCollection at 0x2a2e9b3f910>],\n",
       " 'cmaxes': <matplotlib.collections.LineCollection at 0x2a2e9b4e940>,\n",
       " 'cmins': <matplotlib.collections.LineCollection at 0x2a2e9b4ef10>,\n",
       " 'cbars': <matplotlib.collections.LineCollection at 0x2a2e9b5f310>,\n",
       " 'cquantiles': <matplotlib.collections.LineCollection at 0x2a2e9b5f6d0>}"
      ]
     },
     "execution_count": 97,
     "metadata": {},
     "output_type": "execute_result"
    },
    {
     "data": {
      "image/png": "[encoded data removed]",
      "text/plain": [
       "<Figure size 432x288 with 1 Axes>"
      ]
     },
     "metadata": {
      "needs_background": "light"
     },
     "output_type": "display_data"
    }
   ],
   "source": [
    "a3=Best20[Best20.afinn_adjusted<0].afinn_adjusted\n",
    "score3=[float(x) for x in a3]\n",
    "fig,ax = plot.subplots()\n",
    "ax.set_title('Negative comments of best 20 analysis')\n",
    "ax.violinplot(score3,quantiles=[0.25,0.5,0.75])"
   ]
  },
  {
   "cell_type": "code",
   "execution_count": 66,
   "id": "957ec430",
   "metadata": {},
   "outputs": [
    {
     "name": "stdout",
     "output_type": "stream",
     "text": [
      "Worst 20 negative comments mean is: -8.487770289699371\n",
      "Worst 20 negative comments max is: -0.5102040816326531\n",
      "Worst 20 negative comments median is: -5.495169082125604\n",
      "Worst 20 negative comments min is: -100.0\n"
     ]
    }
   ],
   "source": [
    "Wmean=Worst20[Worst20.afinn_adjusted<0].afinn_adjusted.mean()\n",
    "Wmin=Worst20[Worst20.afinn_adjusted<0].afinn_adjusted.min()\n",
    "Wmax=Worst20[Worst20.afinn_adjusted<0].afinn_adjusted.max()\n",
    "Wmedian=Worst20[Worst20.afinn_adjusted<0].afinn_adjusted.median()\n",
    "Summarise = {'Worst 20 negative comments mean is:':Wmean,'Worst 20 negative comments max is:':Wmax,'Worst 20 negative comments median is:':Wmedian,'Worst 20 negative comments min is:':Wmin}\n",
    "for key in Summarise:\n",
    "    print(key,Summarise[key])"
   ]
  },
  {
   "cell_type": "code",
   "execution_count": 98,
   "id": "0550b657",
   "metadata": {},
   "outputs": [
    {
     "data": {
      "text/plain": [
       "{'bodies': [<matplotlib.collections.PolyCollection at 0x2a2e9bca0a0>],\n",
       " 'cmaxes': <matplotlib.collections.LineCollection at 0x2a2e9bbefd0>,\n",
       " 'cmins': <matplotlib.collections.LineCollection at 0x2a2e9bca640>,\n",
       " 'cbars': <matplotlib.collections.LineCollection at 0x2a2e9bcaa00>,\n",
       " 'cquantiles': <matplotlib.collections.LineCollection at 0x2a2e9bcadc0>}"
      ]
     },
     "execution_count": 98,
     "metadata": {},
     "output_type": "execute_result"
    },
    {
     "data": {
      "image/png": "[encoded data removed]",
      "text/plain": [
       "<Figure size 432x288 with 1 Axes>"
      ]
     },
     "metadata": {
      "needs_background": "light"
     },
     "output_type": "display_data"
    }
   ],
   "source": [
    "a4=Worst20[Worst20.afinn_adjusted<0].afinn_adjusted\n",
    "score4=[float(x) for x in a4]\n",
    "fig,ax = plot.subplots()\n",
    "ax.set_title('Negative comments of worst 20 analysis')\n",
    "ax.violinplot(score4,quantiles=[0.25,0.5,0.75])"
   ]
  },
  {
   "cell_type": "code",
   "execution_count": 120,
   "id": "722237f3",
   "metadata": {},
   "outputs": [
    {
     "data": {
      "image/png": "[encoded data removed]",
      "text/plain": [
       "<Figure size 432x288 with 2 Axes>"
      ]
     },
     "metadata": {
      "needs_background": "light"
     },
     "output_type": "display_data"
    }
   ],
   "source": [
    "fig,ax = plot.subplots(nrows=1,ncols=2)\n",
    "ax[0].set_title('Negative of best 20')\n",
    "parts0 = ax[0].violinplot(score3,quantiles=[0.25,0.5,0.75])\n",
    "ax[1].set_title('Negative of worst 20')\n",
    "parts1 = ax[1].violinplot(score4,quantiles=[0.25,0.5,0.75])\n",
    "for pc in parts1['bodies']:\n",
    "    pc.set_facecolor('tab:orange')\n",
    "    pc.set_edgecolor('white')\n",
    "    pc.set_alpha(1)"
   ]
  },
  {
   "cell_type": "markdown",
   "id": "f2c9624e",
   "metadata": {},
   "source": [
    "## kde plot"
   ]
  },
  {
   "cell_type": "code",
   "execution_count": 165,
   "id": "54a8e135",
   "metadata": {},
   "outputs": [
    {
     "data": {
      "text/plain": [
       "Text(0.5, 1.0, 'Best 20 and Worst 20 total Afinn score distribution')"
      ]
     },
     "execution_count": 165,
     "metadata": {},
     "output_type": "execute_result"
    },
    {
     "data": {
      "image/png": "[encoded data removed]",
      "text/plain": [
       "<Figure size 432x288 with 1 Axes>"
      ]
     },
     "metadata": {
      "needs_background": "light"
     },
     "output_type": "display_data"
    },
    {
     "data": {
      "image/png": "[encoded data removed]",
      "text/plain": [
       "<Figure size 432x288 with 1 Axes>"
      ]
     },
     "metadata": {
      "needs_background": "light"
     },
     "output_type": "display_data"
    }
   ],
   "source": [
    "fig,ax = plot.subplots()\n",
    "score00=pd.Series(score00)\n",
    "score01=pd.Series(score01)\n",
    "fig1 = pd.DataFrame({'Best 20':score00,'Worst 20': score01})\n",
    "ax= fig1.plot.kde()\n",
    "plot.title('Best 20 and Worst 20 total Afinn score distribution')"
   ]
  },
  {
   "cell_type": "code",
   "execution_count": 166,
   "id": "e70238fc",
   "metadata": {},
   "outputs": [
    {
     "data": {
      "text/plain": [
       "Text(0.5, 1.0, 'Best 20 and Worst 20 Positive Afinn score distribution')"
      ]
     },
     "execution_count": 166,
     "metadata": {},
     "output_type": "execute_result"
    },
    {
     "data": {
      "image/png": "[encoded data removed]",
      "text/plain": [
       "<Figure size 432x288 with 1 Axes>"
      ]
     },
     "metadata": {
      "needs_background": "light"
     },
     "output_type": "display_data"
    },
    {
     "data": {
      "image/png": "[encoded data removed]",
      "text/plain": [
       "<Figure size 432x288 with 1 Axes>"
      ]
     },
     "metadata": {
      "needs_background": "light"
     },
     "output_type": "display_data"
    }
   ],
   "source": [
    "fig,ax = plot.subplots()\n",
    "score1=pd.Series(score1)\n",
    "score2=pd.Series(score2)\n",
    "fig2 = pd.DataFrame({'Best 20':score1,'Worst 20': score2})\n",
    "ax= fig2.plot.kde()\n",
    "plot.title('Best 20 and Worst 20 Positive Afinn score distribution')\n",
    "#ax1= score1.plot.kde()\n",
    "#ax2= score2.plot.kde()"
   ]
  },
  {
   "cell_type": "code",
   "execution_count": 167,
   "id": "bf86cfaf",
   "metadata": {},
   "outputs": [
    {
     "data": {
      "text/plain": [
       "Text(0.5, 1.0, 'Best 20 and Worst 20 Negative Afinn score distribution')"
      ]
     },
     "execution_count": 167,
     "metadata": {},
     "output_type": "execute_result"
    },
    {
     "data": {
      "image/png": "[encoded data removed]",
      "text/plain": [
       "<Figure size 432x288 with 1 Axes>"
      ]
     },
     "metadata": {
      "needs_background": "light"
     },
     "output_type": "display_data"
    },
    {
     "data": {
      "image/png": "[encoded data removed]",
      "text/plain": [
       "<Figure size 432x288 with 1 Axes>"
      ]
     },
     "metadata": {
      "needs_background": "light"
     },
     "output_type": "display_data"
    }
   ],
   "source": [
    "fig,ax = plot.subplots()\n",
    "score3=pd.Series(score3)\n",
    "score4=pd.Series(score4)\n",
    "fig3 = pd.DataFrame({'Best 20':score3,'Worst 20': score4})\n",
    "ax= fig3.plot.kde()\n",
    "plot.title('Best 20 and Worst 20 Negative Afinn score distribution')\n",
    "#ax1= score3.plot.kde()\n",
    "#ax2= score4.plot.kde()"
   ]
  }
 ],
 "metadata": {
  "kernelspec": {
   "display_name": "Python 3 (ipykernel)",
   "language": "python",
   "name": "python3"
  },
  "language_info": {
   "codemirror_mode": {
    "name": "ipython",
    "version": 3
   },
   "file_extension": ".py",
   "mimetype": "text/x-python",
   "name": "python",
   "nbconvert_exporter": "python",
   "pygments_lexer": "ipython3",
   "version": "3.9.7"
  }
 },
 "nbformat": 4,
 "nbformat_minor": 5
}
