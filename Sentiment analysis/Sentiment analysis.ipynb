{
 "cells": [
  {
   "cell_type": "markdown",
   "id": "7ae9dbb1",
   "metadata": {},
   "source": [
    "# Part one"
   ]
  },
  {
   "cell_type": "code",
   "execution_count": 127,
   "id": "1d62da0c",
   "metadata": {},
   "outputs": [],
   "source": [
    "import pandas as pd\n",
    "import matplotlib.pyplot as plot\n",
    "import seaborn as sns"
   ]
  },
  {
   "cell_type": "code",
   "execution_count": 239,
   "id": "c7405551",
   "metadata": {},
   "outputs": [
    {
     "data": {
      "text/html": [
       "<div>\n",
       "<style scoped>\n",
       "    .dataframe tbody tr th:only-of-type {\n",
       "        vertical-align: middle;\n",
       "    }\n",
       "\n",
       "    .dataframe tbody tr th {\n",
       "        vertical-align: top;\n",
       "    }\n",
       "\n",
       "    .dataframe thead th {\n",
       "        text-align: right;\n",
       "    }\n",
       "</style>\n",
       "<table border=\"1\" class=\"dataframe\">\n",
       "  <thead>\n",
       "    <tr style=\"text-align: right;\">\n",
       "      <th></th>\n",
       "      <th>Company_Name</th>\n",
       "      <th>Trust_Score</th>\n",
       "      <th>No_of_Reviews</th>\n",
       "    </tr>\n",
       "  </thead>\n",
       "  <tbody>\n",
       "    <tr>\n",
       "      <th>1</th>\n",
       "      <td>Union 22</td>\n",
       "      <td>TrustScore 4.9</td>\n",
       "      <td>505 reviews</td>\n",
       "    </tr>\n",
       "    <tr>\n",
       "      <th>2</th>\n",
       "      <td>A.K. RIKK's</td>\n",
       "      <td>TrustScore 4.9</td>\n",
       "      <td>282 reviews</td>\n",
       "    </tr>\n",
       "    <tr>\n",
       "      <th>3</th>\n",
       "      <td>Hastamuerte</td>\n",
       "      <td>TrustScore 4.8</td>\n",
       "      <td>974 reviews</td>\n",
       "    </tr>\n",
       "    <tr>\n",
       "      <th>4</th>\n",
       "      <td>Otrium</td>\n",
       "      <td>TrustScore 4.8</td>\n",
       "      <td>929 reviews</td>\n",
       "    </tr>\n",
       "    <tr>\n",
       "      <th>5</th>\n",
       "      <td>Angeljackets</td>\n",
       "      <td>TrustScore 4.8</td>\n",
       "      <td>743 reviews</td>\n",
       "    </tr>\n",
       "    <tr>\n",
       "      <th>6</th>\n",
       "      <td>Lebo's</td>\n",
       "      <td>TrustScore 4.8</td>\n",
       "      <td>742 reviews</td>\n",
       "    </tr>\n",
       "    <tr>\n",
       "      <th>7</th>\n",
       "      <td>CelticClothing.com</td>\n",
       "      <td>TrustScore 4.8</td>\n",
       "      <td>366 reviews</td>\n",
       "    </tr>\n",
       "    <tr>\n",
       "      <th>8</th>\n",
       "      <td>USA Kilts</td>\n",
       "      <td>TrustScore 4.8</td>\n",
       "      <td>205 reviews</td>\n",
       "    </tr>\n",
       "    <tr>\n",
       "      <th>9</th>\n",
       "      <td>New Horizons Trading</td>\n",
       "      <td>TrustScore 4.8</td>\n",
       "      <td>60 reviews</td>\n",
       "    </tr>\n",
       "    <tr>\n",
       "      <th>10</th>\n",
       "      <td>JAXXON</td>\n",
       "      <td>TrustScore 4.7</td>\n",
       "      <td>30224 reviews</td>\n",
       "    </tr>\n",
       "    <tr>\n",
       "      <th>11</th>\n",
       "      <td>Tailor Store</td>\n",
       "      <td>TrustScore 4.7</td>\n",
       "      <td>1784 reviews</td>\n",
       "    </tr>\n",
       "    <tr>\n",
       "      <th>12</th>\n",
       "      <td>Wordans USA</td>\n",
       "      <td>TrustScore 4.7</td>\n",
       "      <td>1513 reviews</td>\n",
       "    </tr>\n",
       "    <tr>\n",
       "      <th>13</th>\n",
       "      <td>TAG Safari</td>\n",
       "      <td>TrustScore 4.7</td>\n",
       "      <td>835 reviews</td>\n",
       "    </tr>\n",
       "    <tr>\n",
       "      <th>14</th>\n",
       "      <td>Logan's of Lexington</td>\n",
       "      <td>TrustScore 4.7</td>\n",
       "      <td>831 reviews</td>\n",
       "    </tr>\n",
       "    <tr>\n",
       "      <th>15</th>\n",
       "      <td>Suits Outlets</td>\n",
       "      <td>TrustScore 4.7</td>\n",
       "      <td>567 reviews</td>\n",
       "    </tr>\n",
       "    <tr>\n",
       "      <th>16</th>\n",
       "      <td>Shuuk</td>\n",
       "      <td>TrustScore 4.7</td>\n",
       "      <td>460 reviews</td>\n",
       "    </tr>\n",
       "    <tr>\n",
       "      <th>17</th>\n",
       "      <td>Fan Jackets</td>\n",
       "      <td>TrustScore 4.7</td>\n",
       "      <td>243 reviews</td>\n",
       "    </tr>\n",
       "    <tr>\n",
       "      <th>18</th>\n",
       "      <td>MINOAR</td>\n",
       "      <td>TrustScore 4.7</td>\n",
       "      <td>47 reviews</td>\n",
       "    </tr>\n",
       "    <tr>\n",
       "      <th>19</th>\n",
       "      <td>Haspel</td>\n",
       "      <td>TrustScore 4.6</td>\n",
       "      <td>344 reviews</td>\n",
       "    </tr>\n",
       "    <tr>\n",
       "      <th>20</th>\n",
       "      <td>Luxire.com</td>\n",
       "      <td>TrustScore 4.6</td>\n",
       "      <td>54 reviews</td>\n",
       "    </tr>\n",
       "  </tbody>\n",
       "</table>\n",
       "</div>"
      ],
      "text/plain": [
       "            Company_Name     Trust_Score  No_of_Reviews\n",
       "1               Union 22  TrustScore 4.9    505 reviews\n",
       "2            A.K. RIKK's  TrustScore 4.9    282 reviews\n",
       "3            Hastamuerte  TrustScore 4.8    974 reviews\n",
       "4                 Otrium  TrustScore 4.8    929 reviews\n",
       "5           Angeljackets  TrustScore 4.8    743 reviews\n",
       "6                 Lebo's  TrustScore 4.8    742 reviews\n",
       "7     CelticClothing.com  TrustScore 4.8    366 reviews\n",
       "8              USA Kilts  TrustScore 4.8    205 reviews\n",
       "9   New Horizons Trading  TrustScore 4.8     60 reviews\n",
       "10                JAXXON  TrustScore 4.7  30224 reviews\n",
       "11          Tailor Store  TrustScore 4.7   1784 reviews\n",
       "12           Wordans USA  TrustScore 4.7   1513 reviews\n",
       "13            TAG Safari  TrustScore 4.7    835 reviews\n",
       "14  Logan's of Lexington  TrustScore 4.7    831 reviews\n",
       "15         Suits Outlets  TrustScore 4.7    567 reviews\n",
       "16                 Shuuk  TrustScore 4.7    460 reviews\n",
       "17           Fan Jackets  TrustScore 4.7    243 reviews\n",
       "18                MINOAR  TrustScore 4.7     47 reviews\n",
       "19                Haspel  TrustScore 4.6    344 reviews\n",
       "20            Luxire.com  TrustScore 4.6     54 reviews"
      ]
     },
     "execution_count": 239,
     "metadata": {},
     "output_type": "execute_result"
    }
   ],
   "source": [
    "g20=pd.read_csv('D:/Download/notebooks/data/cus_good20.csv',index_col = 0)\n",
    "b20=pd.read_csv('D:/Download/notebooks/data/cus_bad20.csv',index_col = 0)\n",
    "g20"
   ]
  },
  {
   "cell_type": "code",
   "execution_count": 240,
   "id": "551580ab",
   "metadata": {},
   "outputs": [
    {
     "data": {
      "text/html": [
       "<div>\n",
       "<style scoped>\n",
       "    .dataframe tbody tr th:only-of-type {\n",
       "        vertical-align: middle;\n",
       "    }\n",
       "\n",
       "    .dataframe tbody tr th {\n",
       "        vertical-align: top;\n",
       "    }\n",
       "\n",
       "    .dataframe thead th {\n",
       "        text-align: right;\n",
       "    }\n",
       "</style>\n",
       "<table border=\"1\" class=\"dataframe\">\n",
       "  <thead>\n",
       "    <tr style=\"text-align: right;\">\n",
       "      <th></th>\n",
       "      <th>Company_Name</th>\n",
       "      <th>Trust_Score</th>\n",
       "      <th>No_of_Reviews</th>\n",
       "      <th>Type</th>\n",
       "    </tr>\n",
       "  </thead>\n",
       "  <tbody>\n",
       "    <tr>\n",
       "      <th>0</th>\n",
       "      <td>Union 22</td>\n",
       "      <td>4.9</td>\n",
       "      <td>505.0</td>\n",
       "      <td>Good</td>\n",
       "    </tr>\n",
       "    <tr>\n",
       "      <th>1</th>\n",
       "      <td>A.K. RIKK's</td>\n",
       "      <td>4.9</td>\n",
       "      <td>282.0</td>\n",
       "      <td>Good</td>\n",
       "    </tr>\n",
       "    <tr>\n",
       "      <th>2</th>\n",
       "      <td>Hastamuerte</td>\n",
       "      <td>4.8</td>\n",
       "      <td>974.0</td>\n",
       "      <td>Good</td>\n",
       "    </tr>\n",
       "    <tr>\n",
       "      <th>3</th>\n",
       "      <td>Otrium</td>\n",
       "      <td>4.8</td>\n",
       "      <td>929.0</td>\n",
       "      <td>Good</td>\n",
       "    </tr>\n",
       "    <tr>\n",
       "      <th>4</th>\n",
       "      <td>Angeljackets</td>\n",
       "      <td>4.8</td>\n",
       "      <td>743.0</td>\n",
       "      <td>Good</td>\n",
       "    </tr>\n",
       "    <tr>\n",
       "      <th>5</th>\n",
       "      <td>Lebo's</td>\n",
       "      <td>4.8</td>\n",
       "      <td>742.0</td>\n",
       "      <td>Good</td>\n",
       "    </tr>\n",
       "    <tr>\n",
       "      <th>6</th>\n",
       "      <td>CelticClothing.com</td>\n",
       "      <td>4.8</td>\n",
       "      <td>366.0</td>\n",
       "      <td>Good</td>\n",
       "    </tr>\n",
       "    <tr>\n",
       "      <th>7</th>\n",
       "      <td>USA Kilts</td>\n",
       "      <td>4.8</td>\n",
       "      <td>205.0</td>\n",
       "      <td>Good</td>\n",
       "    </tr>\n",
       "    <tr>\n",
       "      <th>8</th>\n",
       "      <td>New Horizons Trading</td>\n",
       "      <td>4.8</td>\n",
       "      <td>60.0</td>\n",
       "      <td>Good</td>\n",
       "    </tr>\n",
       "    <tr>\n",
       "      <th>9</th>\n",
       "      <td>JAXXON</td>\n",
       "      <td>4.7</td>\n",
       "      <td>30224.0</td>\n",
       "      <td>Good</td>\n",
       "    </tr>\n",
       "    <tr>\n",
       "      <th>10</th>\n",
       "      <td>Tailor Store</td>\n",
       "      <td>4.7</td>\n",
       "      <td>1784.0</td>\n",
       "      <td>Good</td>\n",
       "    </tr>\n",
       "    <tr>\n",
       "      <th>11</th>\n",
       "      <td>Wordans USA</td>\n",
       "      <td>4.7</td>\n",
       "      <td>1513.0</td>\n",
       "      <td>Good</td>\n",
       "    </tr>\n",
       "    <tr>\n",
       "      <th>12</th>\n",
       "      <td>TAG Safari</td>\n",
       "      <td>4.7</td>\n",
       "      <td>835.0</td>\n",
       "      <td>Good</td>\n",
       "    </tr>\n",
       "    <tr>\n",
       "      <th>13</th>\n",
       "      <td>Logan's of Lexington</td>\n",
       "      <td>4.7</td>\n",
       "      <td>831.0</td>\n",
       "      <td>Good</td>\n",
       "    </tr>\n",
       "    <tr>\n",
       "      <th>14</th>\n",
       "      <td>Suits Outlets</td>\n",
       "      <td>4.7</td>\n",
       "      <td>567.0</td>\n",
       "      <td>Good</td>\n",
       "    </tr>\n",
       "    <tr>\n",
       "      <th>15</th>\n",
       "      <td>Shuuk</td>\n",
       "      <td>4.7</td>\n",
       "      <td>460.0</td>\n",
       "      <td>Good</td>\n",
       "    </tr>\n",
       "    <tr>\n",
       "      <th>16</th>\n",
       "      <td>Fan Jackets</td>\n",
       "      <td>4.7</td>\n",
       "      <td>243.0</td>\n",
       "      <td>Good</td>\n",
       "    </tr>\n",
       "    <tr>\n",
       "      <th>17</th>\n",
       "      <td>MINOAR</td>\n",
       "      <td>4.7</td>\n",
       "      <td>47.0</td>\n",
       "      <td>Good</td>\n",
       "    </tr>\n",
       "    <tr>\n",
       "      <th>18</th>\n",
       "      <td>Haspel</td>\n",
       "      <td>4.6</td>\n",
       "      <td>344.0</td>\n",
       "      <td>Good</td>\n",
       "    </tr>\n",
       "    <tr>\n",
       "      <th>19</th>\n",
       "      <td>Luxire.com</td>\n",
       "      <td>4.6</td>\n",
       "      <td>54.0</td>\n",
       "      <td>Good</td>\n",
       "    </tr>\n",
       "    <tr>\n",
       "      <th>20</th>\n",
       "      <td>SuperRevel</td>\n",
       "      <td>3.2</td>\n",
       "      <td>1.0</td>\n",
       "      <td>Bad</td>\n",
       "    </tr>\n",
       "    <tr>\n",
       "      <th>21</th>\n",
       "      <td>BESPOKE DAILY</td>\n",
       "      <td>3.2</td>\n",
       "      <td>1.0</td>\n",
       "      <td>Bad</td>\n",
       "    </tr>\n",
       "    <tr>\n",
       "      <th>22</th>\n",
       "      <td>WINGS</td>\n",
       "      <td>3.1</td>\n",
       "      <td>9.0</td>\n",
       "      <td>Bad</td>\n",
       "    </tr>\n",
       "    <tr>\n",
       "      <th>23</th>\n",
       "      <td>Outworq</td>\n",
       "      <td>3.1</td>\n",
       "      <td>6.0</td>\n",
       "      <td>Bad</td>\n",
       "    </tr>\n",
       "    <tr>\n",
       "      <th>24</th>\n",
       "      <td>Aaashirt</td>\n",
       "      <td>3.0</td>\n",
       "      <td>60.0</td>\n",
       "      <td>Bad</td>\n",
       "    </tr>\n",
       "    <tr>\n",
       "      <th>25</th>\n",
       "      <td>Zartoni</td>\n",
       "      <td>2.9</td>\n",
       "      <td>103.0</td>\n",
       "      <td>Bad</td>\n",
       "    </tr>\n",
       "    <tr>\n",
       "      <th>26</th>\n",
       "      <td>JERSEY LOCO</td>\n",
       "      <td>2.9</td>\n",
       "      <td>62.0</td>\n",
       "      <td>Bad</td>\n",
       "    </tr>\n",
       "    <tr>\n",
       "      <th>27</th>\n",
       "      <td>BAOBAB Clothing</td>\n",
       "      <td>2.9</td>\n",
       "      <td>8.0</td>\n",
       "      <td>Bad</td>\n",
       "    </tr>\n",
       "    <tr>\n",
       "      <th>28</th>\n",
       "      <td>Birddogs</td>\n",
       "      <td>2.9</td>\n",
       "      <td>8.0</td>\n",
       "      <td>Bad</td>\n",
       "    </tr>\n",
       "    <tr>\n",
       "      <th>29</th>\n",
       "      <td>Ten Thousand</td>\n",
       "      <td>2.8</td>\n",
       "      <td>72.0</td>\n",
       "      <td>Bad</td>\n",
       "    </tr>\n",
       "    <tr>\n",
       "      <th>30</th>\n",
       "      <td>Gwen's</td>\n",
       "      <td>2.8</td>\n",
       "      <td>6.0</td>\n",
       "      <td>Bad</td>\n",
       "    </tr>\n",
       "    <tr>\n",
       "      <th>31</th>\n",
       "      <td>Leathersclub</td>\n",
       "      <td>2.6</td>\n",
       "      <td>7.0</td>\n",
       "      <td>Bad</td>\n",
       "    </tr>\n",
       "    <tr>\n",
       "      <th>32</th>\n",
       "      <td>WorldSoccerShop</td>\n",
       "      <td>2.5</td>\n",
       "      <td>1245.0</td>\n",
       "      <td>Bad</td>\n",
       "    </tr>\n",
       "    <tr>\n",
       "      <th>33</th>\n",
       "      <td>Klein, Epstein &amp; Parker</td>\n",
       "      <td>2.5</td>\n",
       "      <td>37.0</td>\n",
       "      <td>Bad</td>\n",
       "    </tr>\n",
       "    <tr>\n",
       "      <th>34</th>\n",
       "      <td>Giga</td>\n",
       "      <td>2.5</td>\n",
       "      <td>17.0</td>\n",
       "      <td>Bad</td>\n",
       "    </tr>\n",
       "    <tr>\n",
       "      <th>35</th>\n",
       "      <td>Quinn</td>\n",
       "      <td>2.5</td>\n",
       "      <td>12.0</td>\n",
       "      <td>Bad</td>\n",
       "    </tr>\n",
       "    <tr>\n",
       "      <th>36</th>\n",
       "      <td>Historical Emporium</td>\n",
       "      <td>2.5</td>\n",
       "      <td>10.0</td>\n",
       "      <td>Bad</td>\n",
       "    </tr>\n",
       "    <tr>\n",
       "      <th>37</th>\n",
       "      <td>BeltOutlet.com</td>\n",
       "      <td>2.5</td>\n",
       "      <td>5.0</td>\n",
       "      <td>Bad</td>\n",
       "    </tr>\n",
       "    <tr>\n",
       "      <th>38</th>\n",
       "      <td>Matchutailor</td>\n",
       "      <td>2.4</td>\n",
       "      <td>44.0</td>\n",
       "      <td>Bad</td>\n",
       "    </tr>\n",
       "    <tr>\n",
       "      <th>39</th>\n",
       "      <td>Public Rec</td>\n",
       "      <td>2.3</td>\n",
       "      <td>212.0</td>\n",
       "      <td>Bad</td>\n",
       "    </tr>\n",
       "  </tbody>\n",
       "</table>\n",
       "</div>"
      ],
      "text/plain": [
       "               Company_Name  Trust_Score  No_of_Reviews  Type\n",
       "0                  Union 22          4.9          505.0  Good\n",
       "1               A.K. RIKK's          4.9          282.0  Good\n",
       "2               Hastamuerte          4.8          974.0  Good\n",
       "3                    Otrium          4.8          929.0  Good\n",
       "4              Angeljackets          4.8          743.0  Good\n",
       "5                    Lebo's          4.8          742.0  Good\n",
       "6        CelticClothing.com          4.8          366.0  Good\n",
       "7                 USA Kilts          4.8          205.0  Good\n",
       "8      New Horizons Trading          4.8           60.0  Good\n",
       "9                    JAXXON          4.7        30224.0  Good\n",
       "10             Tailor Store          4.7         1784.0  Good\n",
       "11              Wordans USA          4.7         1513.0  Good\n",
       "12               TAG Safari          4.7          835.0  Good\n",
       "13     Logan's of Lexington          4.7          831.0  Good\n",
       "14            Suits Outlets          4.7          567.0  Good\n",
       "15                    Shuuk          4.7          460.0  Good\n",
       "16              Fan Jackets          4.7          243.0  Good\n",
       "17                   MINOAR          4.7           47.0  Good\n",
       "18                   Haspel          4.6          344.0  Good\n",
       "19               Luxire.com          4.6           54.0  Good\n",
       "20               SuperRevel          3.2            1.0   Bad\n",
       "21            BESPOKE DAILY          3.2            1.0   Bad\n",
       "22                    WINGS          3.1            9.0   Bad\n",
       "23                  Outworq          3.1            6.0   Bad\n",
       "24                 Aaashirt          3.0           60.0   Bad\n",
       "25                  Zartoni          2.9          103.0   Bad\n",
       "26              JERSEY LOCO          2.9           62.0   Bad\n",
       "27          BAOBAB Clothing          2.9            8.0   Bad\n",
       "28                 Birddogs          2.9            8.0   Bad\n",
       "29             Ten Thousand          2.8           72.0   Bad\n",
       "30                   Gwen's          2.8            6.0   Bad\n",
       "31             Leathersclub          2.6            7.0   Bad\n",
       "32          WorldSoccerShop          2.5         1245.0   Bad\n",
       "33  Klein, Epstein & Parker          2.5           37.0   Bad\n",
       "34                     Giga          2.5           17.0   Bad\n",
       "35                    Quinn          2.5           12.0   Bad\n",
       "36      Historical Emporium          2.5           10.0   Bad\n",
       "37           BeltOutlet.com          2.5            5.0   Bad\n",
       "38             Matchutailor          2.4           44.0   Bad\n",
       "39               Public Rec          2.3          212.0   Bad"
      ]
     },
     "execution_count": 240,
     "metadata": {},
     "output_type": "execute_result"
    }
   ],
   "source": [
    "def scoreTC(x):\n",
    "    import re\n",
    "    a = re.search('[\\d.]+', x).group()\n",
    "    return float(a)\n",
    "\n",
    "def scoreRE(x):\n",
    "    import re\n",
    "    a = re.search('[\\d]+ ', x).group()\n",
    "    return float(a)\n",
    "\n",
    "g20['Trust_Score']=g20['Trust_Score'].apply(scoreTC)\n",
    "b20['Trust_Score']=b20['Trust_Score'].apply(scoreTC)\n",
    "g20['No_of_Reviews']=g20['No_of_Reviews'].apply(scoreRE)\n",
    "b20['No_of_Reviews']=b20['No_of_Reviews'].apply(scoreRE)\n",
    "g20['Type']='Good'\n",
    "b20['Type']='Bad'\n",
    "result = pd.concat([g20,b20],ignore_index=True)\n",
    "result"
   ]
  },
  {
   "cell_type": "markdown",
   "id": "41fd6aad",
   "metadata": {},
   "source": [
    "### Good and bad reviews count"
   ]
  },
  {
   "cell_type": "code",
   "execution_count": 247,
   "id": "b4dcc5bd",
   "metadata": {},
   "outputs": [
    {
     "name": "stdout",
     "output_type": "stream",
     "text": [
      "[1925.0, 41708.0]\n"
     ]
    },
    {
     "data": {
      "text/plain": [
       "Text(0.5, 1.0, 'Best 20 and Worst 20 Reviews average')"
      ]
     },
     "execution_count": 247,
     "metadata": {},
     "output_type": "execute_result"
    },
    {
     "data": {
      "image/png": "[encoded data removed]",
      "text/plain": [
       "<Figure size 432x288 with 1 Axes>"
      ]
     },
     "metadata": {
      "needs_background": "light"
     },
     "output_type": "display_data"
    }
   ],
   "source": [
    "a=result.groupby('Type')['No_of_Reviews'].mean()\n",
    "b=result.groupby('Type')['No_of_Reviews'].sum()\n",
    "cou={'Best 20':int(a[1]),'Worst 20':int(a[0])}\n",
    "print(list(b))\n",
    "types = list(cou.keys())\n",
    "value = list(cou.values())\n",
    "plot.bar(range(len(cou)), value, tick_label=types, color=['tab:orange','tab:purple'])\n",
    "plot.title('Best 20 and Worst 20 Reviews average')"
   ]
  },
  {
   "cell_type": "code",
   "execution_count": 248,
   "id": "35e9db1c",
   "metadata": {},
   "outputs": [
    {
     "name": "stdout",
     "output_type": "stream",
     "text": [
      "[11.0, 536.0]\n"
     ]
    },
    {
     "data": {
      "text/plain": [
       "Text(0.5, 1.0, 'Best 20 and Worst 20 Reviews median')"
      ]
     },
     "execution_count": 248,
     "metadata": {},
     "output_type": "execute_result"
    },
    {
     "data": {
      "image/png": "[encoded data removed]",
      "text/plain": [
       "<Figure size 432x288 with 1 Axes>"
      ]
     },
     "metadata": {
      "needs_background": "light"
     },
     "output_type": "display_data"
    }
   ],
   "source": [
    "a=result.groupby('Type')['No_of_Reviews'].median()\n",
    "b=result.groupby('Type')['No_of_Reviews'].sum()\n",
    "cou={'Best 20':int(a[1]),'Worst 20':int(a[0])}\n",
    "print(list(a))\n",
    "types = list(cou.keys())\n",
    "value = list(cou.values())\n",
    "plot.bar(range(len(cou)), value, tick_label=types, color=['tab:orange','tab:purple'])\n",
    "plot.title('Best 20 and Worst 20 Reviews median')"
   ]
  },
  {
   "cell_type": "markdown",
   "id": "c16437a6",
   "metadata": {},
   "source": [
    "# Part two"
   ]
  },
  {
   "cell_type": "code",
   "execution_count": 265,
   "id": "6d1928c5",
   "metadata": {},
   "outputs": [
    {
     "data": {
      "text/html": [
       "<div>\n",
       "<style scoped>\n",
       "    .dataframe tbody tr th:only-of-type {\n",
       "        vertical-align: middle;\n",
       "    }\n",
       "\n",
       "    .dataframe tbody tr th {\n",
       "        vertical-align: top;\n",
       "    }\n",
       "\n",
       "    .dataframe thead th {\n",
       "        text-align: right;\n",
       "    }\n",
       "</style>\n",
       "<table border=\"1\" class=\"dataframe\">\n",
       "  <thead>\n",
       "    <tr style=\"text-align: right;\">\n",
       "      <th></th>\n",
       "      <th>Comments</th>\n",
       "    </tr>\n",
       "  </thead>\n",
       "  <tbody>\n",
       "    <tr>\n",
       "      <th>0</th>\n",
       "      <td>All this place does is double the price of Ama...</td>\n",
       "    </tr>\n",
       "    <tr>\n",
       "      <th>1</th>\n",
       "      <td>The jacket purchased for my husband fits perfe...</td>\n",
       "    </tr>\n",
       "    <tr>\n",
       "      <th>2</th>\n",
       "      <td>I received my order from Angel Jackets and hav...</td>\n",
       "    </tr>\n",
       "    <tr>\n",
       "      <th>3</th>\n",
       "      <td>I'm a new customer but am so impressed with th...</td>\n",
       "    </tr>\n",
       "    <tr>\n",
       "      <th>4</th>\n",
       "      <td>It is greatI ordered a leather jacked. I order...</td>\n",
       "    </tr>\n",
       "    <tr>\n",
       "      <th>...</th>\n",
       "      <td>...</td>\n",
       "    </tr>\n",
       "    <tr>\n",
       "      <th>395</th>\n",
       "      <td>Great website and customer service. Very speed...</td>\n",
       "    </tr>\n",
       "    <tr>\n",
       "      <th>396</th>\n",
       "      <td>Luxire has once again been the best service I’...</td>\n",
       "    </tr>\n",
       "    <tr>\n",
       "      <th>397</th>\n",
       "      <td>My first order with Luxire-a pair of trousers ...</td>\n",
       "    </tr>\n",
       "    <tr>\n",
       "      <th>398</th>\n",
       "      <td>Fantastic made-to-measure service. Ordered a c...</td>\n",
       "    </tr>\n",
       "    <tr>\n",
       "      <th>399</th>\n",
       "      <td>The whole process was great and the communicat...</td>\n",
       "    </tr>\n",
       "  </tbody>\n",
       "</table>\n",
       "<p>400 rows × 1 columns</p>\n",
       "</div>"
      ],
      "text/plain": [
       "                                              Comments\n",
       "0    All this place does is double the price of Ama...\n",
       "1    The jacket purchased for my husband fits perfe...\n",
       "2    I received my order from Angel Jackets and hav...\n",
       "3    I'm a new customer but am so impressed with th...\n",
       "4    It is greatI ordered a leather jacked. I order...\n",
       "..                                                 ...\n",
       "395  Great website and customer service. Very speed...\n",
       "396  Luxire has once again been the best service I’...\n",
       "397  My first order with Luxire-a pair of trousers ...\n",
       "398  Fantastic made-to-measure service. Ordered a c...\n",
       "399  The whole process was great and the communicat...\n",
       "\n",
       "[400 rows x 1 columns]"
      ]
     },
     "execution_count": 265,
     "metadata": {},
     "output_type": "execute_result"
    }
   ],
   "source": [
    "import numpy as np\n",
    "Best20=pd.read_csv('D:/Download/notebooks/data/best_comments.csv',index_col=0).reset_index().drop('Number',axis=1)\n",
    "Best20"
   ]
  },
  {
   "cell_type": "markdown",
   "id": "2c7c7ad4",
   "metadata": {},
   "source": [
    "# AFINN score (Sentiment analysis)"
   ]
  },
  {
   "cell_type": "markdown",
   "id": "668a1569",
   "metadata": {},
   "source": [
    "## Best 20 comments sentiment analysis"
   ]
  },
  {
   "cell_type": "code",
   "execution_count": 266,
   "id": "ef5b4bdd",
   "metadata": {},
   "outputs": [
    {
     "data": {
      "text/html": [
       "<div>\n",
       "<style scoped>\n",
       "    .dataframe tbody tr th:only-of-type {\n",
       "        vertical-align: middle;\n",
       "    }\n",
       "\n",
       "    .dataframe tbody tr th {\n",
       "        vertical-align: top;\n",
       "    }\n",
       "\n",
       "    .dataframe thead th {\n",
       "        text-align: right;\n",
       "    }\n",
       "</style>\n",
       "<table border=\"1\" class=\"dataframe\">\n",
       "  <thead>\n",
       "    <tr style=\"text-align: right;\">\n",
       "      <th></th>\n",
       "      <th>Comments</th>\n",
       "      <th>score</th>\n",
       "      <th>wordcount</th>\n",
       "      <th>afinn_adjusted</th>\n",
       "      <th>Z_score</th>\n",
       "    </tr>\n",
       "  </thead>\n",
       "  <tbody>\n",
       "    <tr>\n",
       "      <th>0</th>\n",
       "      <td>All this place does is double the price of Ama...</td>\n",
       "      <td>1.0</td>\n",
       "      <td>107</td>\n",
       "      <td>0.934579</td>\n",
       "      <td>-1.121361</td>\n",
       "    </tr>\n",
       "    <tr>\n",
       "      <th>1</th>\n",
       "      <td>The jacket purchased for my husband fits perfe...</td>\n",
       "      <td>5.0</td>\n",
       "      <td>47</td>\n",
       "      <td>10.638298</td>\n",
       "      <td>-0.557934</td>\n",
       "    </tr>\n",
       "    <tr>\n",
       "      <th>2</th>\n",
       "      <td>I received my order from Angel Jackets and hav...</td>\n",
       "      <td>12.0</td>\n",
       "      <td>46</td>\n",
       "      <td>26.086957</td>\n",
       "      <td>0.339062</td>\n",
       "    </tr>\n",
       "    <tr>\n",
       "      <th>3</th>\n",
       "      <td>I'm a new customer but am so impressed with th...</td>\n",
       "      <td>7.0</td>\n",
       "      <td>41</td>\n",
       "      <td>17.073171</td>\n",
       "      <td>-0.184306</td>\n",
       "    </tr>\n",
       "    <tr>\n",
       "      <th>4</th>\n",
       "      <td>It is greatI ordered a leather jacked. I order...</td>\n",
       "      <td>6.0</td>\n",
       "      <td>48</td>\n",
       "      <td>12.500000</td>\n",
       "      <td>-0.449838</td>\n",
       "    </tr>\n",
       "    <tr>\n",
       "      <th>...</th>\n",
       "      <td>...</td>\n",
       "      <td>...</td>\n",
       "      <td>...</td>\n",
       "      <td>...</td>\n",
       "      <td>...</td>\n",
       "    </tr>\n",
       "    <tr>\n",
       "      <th>395</th>\n",
       "      <td>Great website and customer service. Very speed...</td>\n",
       "      <td>11.0</td>\n",
       "      <td>43</td>\n",
       "      <td>25.581395</td>\n",
       "      <td>0.309707</td>\n",
       "    </tr>\n",
       "    <tr>\n",
       "      <th>396</th>\n",
       "      <td>Luxire has once again been the best service I’...</td>\n",
       "      <td>19.0</td>\n",
       "      <td>105</td>\n",
       "      <td>18.095238</td>\n",
       "      <td>-0.124961</td>\n",
       "    </tr>\n",
       "    <tr>\n",
       "      <th>397</th>\n",
       "      <td>My first order with Luxire-a pair of trousers ...</td>\n",
       "      <td>13.0</td>\n",
       "      <td>105</td>\n",
       "      <td>12.380952</td>\n",
       "      <td>-0.456750</td>\n",
       "    </tr>\n",
       "    <tr>\n",
       "      <th>398</th>\n",
       "      <td>Fantastic made-to-measure service. Ordered a c...</td>\n",
       "      <td>16.0</td>\n",
       "      <td>98</td>\n",
       "      <td>16.326531</td>\n",
       "      <td>-0.227658</td>\n",
       "    </tr>\n",
       "    <tr>\n",
       "      <th>399</th>\n",
       "      <td>The whole process was great and the communicat...</td>\n",
       "      <td>0.0</td>\n",
       "      <td>47</td>\n",
       "      <td>0.000000</td>\n",
       "      <td>-1.175625</td>\n",
       "    </tr>\n",
       "  </tbody>\n",
       "</table>\n",
       "<p>400 rows × 5 columns</p>\n",
       "</div>"
      ],
      "text/plain": [
       "                                              Comments  score  wordcount  \\\n",
       "0    All this place does is double the price of Ama...    1.0        107   \n",
       "1    The jacket purchased for my husband fits perfe...    5.0         47   \n",
       "2    I received my order from Angel Jackets and hav...   12.0         46   \n",
       "3    I'm a new customer but am so impressed with th...    7.0         41   \n",
       "4    It is greatI ordered a leather jacked. I order...    6.0         48   \n",
       "..                                                 ...    ...        ...   \n",
       "395  Great website and customer service. Very speed...   11.0         43   \n",
       "396  Luxire has once again been the best service I’...   19.0        105   \n",
       "397  My first order with Luxire-a pair of trousers ...   13.0        105   \n",
       "398  Fantastic made-to-measure service. Ordered a c...   16.0         98   \n",
       "399  The whole process was great and the communicat...    0.0         47   \n",
       "\n",
       "     afinn_adjusted   Z_score  \n",
       "0          0.934579 -1.121361  \n",
       "1         10.638298 -0.557934  \n",
       "2         26.086957  0.339062  \n",
       "3         17.073171 -0.184306  \n",
       "4         12.500000 -0.449838  \n",
       "..              ...       ...  \n",
       "395       25.581395  0.309707  \n",
       "396       18.095238 -0.124961  \n",
       "397       12.380952 -0.456750  \n",
       "398       16.326531 -0.227658  \n",
       "399        0.000000 -1.175625  \n",
       "\n",
       "[400 rows x 5 columns]"
      ]
     },
     "execution_count": 266,
     "metadata": {},
     "output_type": "execute_result"
    }
   ],
   "source": [
    "from sklearn.feature_extraction.text import TfidfVectorizer\n",
    "from afinn import Afinn\n",
    "\n",
    "def wordCount(x):\n",
    "    import re\n",
    "    y=re.sub('[^a-zA-Z0-9]',' ',x).strip()\n",
    "    x=y.replace('  ',' ').split(' ')\n",
    "    return len(x)\n",
    "\n",
    "def find_best_std(x):\n",
    "    return (x- total_best_average)/total_best_std\n",
    "\n",
    "afinn = Afinn(language='en')\n",
    "Best20['score']=Best20['Comments'].apply(afinn.score)\n",
    "Best20['wordcount']=Best20['Comments'].apply(wordCount)\n",
    "Best20['afinn_adjusted'] = Best20['score'] / Best20['wordcount'] * 100\n",
    "total_best_average = Best20.afinn_adjusted.mean()\n",
    "total_best_std = Best20.afinn_adjusted.std()\n",
    "Best20['Z_score'] = Best20['afinn_adjusted'].apply(find_best_std)\n",
    "Best20"
   ]
  },
  {
   "cell_type": "markdown",
   "id": "51f727bf",
   "metadata": {},
   "source": [
    "### Best 20 retails only have 16 negative comments"
   ]
  },
  {
   "cell_type": "code",
   "execution_count": 277,
   "id": "95382dda",
   "metadata": {},
   "outputs": [
    {
     "data": {
      "text/plain": [
       "Comments          16\n",
       "score             16\n",
       "wordcount         16\n",
       "afinn_adjusted    16\n",
       "Z_score           16\n",
       "dtype: int64"
      ]
     },
     "execution_count": 277,
     "metadata": {},
     "output_type": "execute_result"
    }
   ],
   "source": [
    "Best20[Best20.afinn_adjusted<0].count()"
   ]
  },
  {
   "cell_type": "markdown",
   "id": "bd7005eb",
   "metadata": {},
   "source": [
    "### Export outliers of Best 20"
   ]
  },
  {
   "cell_type": "code",
   "execution_count": 273,
   "id": "fd126784",
   "metadata": {},
   "outputs": [],
   "source": [
    "Best20[Best20.Z_score < -2].Comments.to_csv('Best_20_outliers.csv')"
   ]
  },
  {
   "cell_type": "markdown",
   "id": "f32d02e4",
   "metadata": {},
   "source": [
    "## Worst 20 retails comments sentiment analysis"
   ]
  },
  {
   "cell_type": "code",
   "execution_count": 212,
   "id": "5619e514",
   "metadata": {},
   "outputs": [
    {
     "data": {
      "text/html": [
       "<div>\n",
       "<style scoped>\n",
       "    .dataframe tbody tr th:only-of-type {\n",
       "        vertical-align: middle;\n",
       "    }\n",
       "\n",
       "    .dataframe tbody tr th {\n",
       "        vertical-align: top;\n",
       "    }\n",
       "\n",
       "    .dataframe thead th {\n",
       "        text-align: right;\n",
       "    }\n",
       "</style>\n",
       "<table border=\"1\" class=\"dataframe\">\n",
       "  <thead>\n",
       "    <tr style=\"text-align: right;\">\n",
       "      <th></th>\n",
       "      <th>Comments</th>\n",
       "    </tr>\n",
       "  </thead>\n",
       "  <tbody>\n",
       "    <tr>\n",
       "      <th>0</th>\n",
       "      <td>I bought summer trousers totally satisfied, lo...</td>\n",
       "    </tr>\n",
       "    <tr>\n",
       "      <th>1</th>\n",
       "      <td>Have very good experience with wings Stuff is ...</td>\n",
       "    </tr>\n",
       "    <tr>\n",
       "      <th>2</th>\n",
       "      <td>Product Awesome Packing jst amazing so soft nd...</td>\n",
       "    </tr>\n",
       "    <tr>\n",
       "      <th>3</th>\n",
       "      <td>The best quality with a reasonable price. Outc...</td>\n",
       "    </tr>\n",
       "    <tr>\n",
       "      <th>4</th>\n",
       "      <td>I got a beautiful lovely leather wallet. Packi...</td>\n",
       "    </tr>\n",
       "    <tr>\n",
       "      <th>...</th>\n",
       "      <td>...</td>\n",
       "    </tr>\n",
       "    <tr>\n",
       "      <th>759</th>\n",
       "      <td>First time ordering from camp saver and though...</td>\n",
       "    </tr>\n",
       "    <tr>\n",
       "      <th>760</th>\n",
       "      <td>I??d give a zero if it was possible. 2 months...</td>\n",
       "    </tr>\n",
       "    <tr>\n",
       "      <th>761</th>\n",
       "      <td>I ordered a duffel bag 4 weeks ago and its tak...</td>\n",
       "    </tr>\n",
       "    <tr>\n",
       "      <th>762</th>\n",
       "      <td>Most bad I reviews I read are during covid tim...</td>\n",
       "    </tr>\n",
       "    <tr>\n",
       "      <th>763</th>\n",
       "      <td>Scam-Site. You'll not receive your order, will...</td>\n",
       "    </tr>\n",
       "  </tbody>\n",
       "</table>\n",
       "<p>764 rows × 1 columns</p>\n",
       "</div>"
      ],
      "text/plain": [
       "                                              Comments\n",
       "0    I bought summer trousers totally satisfied, lo...\n",
       "1    Have very good experience with wings Stuff is ...\n",
       "2    Product Awesome Packing jst amazing so soft nd...\n",
       "3    The best quality with a reasonable price. Outc...\n",
       "4    I got a beautiful lovely leather wallet. Packi...\n",
       "..                                                 ...\n",
       "759  First time ordering from camp saver and though...\n",
       "760  I??d give a zero if it was possible. 2 months...\n",
       "761  I ordered a duffel bag 4 weeks ago and its tak...\n",
       "762  Most bad I reviews I read are during covid tim...\n",
       "763  Scam-Site. You'll not receive your order, will...\n",
       "\n",
       "[764 rows x 1 columns]"
      ]
     },
     "execution_count": 212,
     "metadata": {},
     "output_type": "execute_result"
    }
   ],
   "source": [
    "import numpy as np\n",
    "Worst20=pd.read_csv('D:/Download/notebooks/data/worst_comments.csv',index_col=0,encoding = 'unicode_escape').reset_index().drop('Number',axis=1)\n",
    "Worst20"
   ]
  },
  {
   "cell_type": "code",
   "execution_count": 250,
   "id": "7edcf886",
   "metadata": {},
   "outputs": [
    {
     "name": "stdout",
     "output_type": "stream",
     "text": [
      "6.310979667821452 18.388199816712596\n"
     ]
    }
   ],
   "source": [
    "afinn = Afinn(language='en')\n",
    "Worst20['score']=Worst20['Comments'].apply(afinn.score)\n",
    "Worst20['wordcount']=Worst20['Comments'].apply(wordCount)\n",
    "Worst20['afinn_adjusted'] = Worst20['score'] / Worst20['wordcount'] * 100\n",
    "def find_worst_std(x):\n",
    "    return (x- total_worst_average)/total_worst_std\n",
    "total_worst_average = Worst20.afinn_adjusted.mean()\n",
    "total_worst_std = Worst20.afinn_adjusted.std()\n",
    "Worst20['Z_score'] = Worst20['afinn_adjusted'].apply(find_std)\n",
    "Worst20\n",
    "print(total_worst_average,total_worst_std)"
   ]
  },
  {
   "cell_type": "code",
   "execution_count": 214,
   "id": "3f7965ec",
   "metadata": {},
   "outputs": [
    {
     "data": {
      "text/plain": [
       "Text(0.5, 1.0, 'Z-score of Afinn adjusted value taken from Best 20 and Worst 20 ')"
      ]
     },
     "execution_count": 214,
     "metadata": {},
     "output_type": "execute_result"
    },
    {
     "data": {
      "image/png": "[encoded data removed]",
      "text/plain": [
       "<Figure size 432x288 with 1 Axes>"
      ]
     },
     "metadata": {
      "needs_background": "light"
     },
     "output_type": "display_data"
    },
    {
     "data": {
      "image/png": "[encoded data removed]",
      "text/plain": [
       "<Figure size 432x288 with 1 Axes>"
      ]
     },
     "metadata": {
      "needs_background": "light"
     },
     "output_type": "display_data"
    }
   ],
   "source": [
    "fig,ax = plot.subplots()\n",
    "best_z_score=pd.Series(Best20.Z_score)\n",
    "worst_z_score=pd.Series(Worst20.Z_score)\n",
    "total_20=pd.DataFrame({'Best20':best_z_score,'Worst20':worst_z_score})\n",
    "ax= total_20.plot.kde()\n",
    "plot.title('Z-score of Afinn adjusted value taken from Best 20 and Worst 20 ')"
   ]
  },
  {
   "cell_type": "markdown",
   "id": "e3b71701",
   "metadata": {},
   "source": [
    "### Worst 20 retails have 267 negative comments"
   ]
  },
  {
   "cell_type": "code",
   "execution_count": 236,
   "id": "1e514373",
   "metadata": {},
   "outputs": [
    {
     "data": {
      "text/plain": [
       "Comments          267\n",
       "score             267\n",
       "wordcount         267\n",
       "afinn_adjusted    267\n",
       "Z_score           267\n",
       "dtype: int64"
      ]
     },
     "execution_count": 236,
     "metadata": {},
     "output_type": "execute_result"
    }
   ],
   "source": [
    "Worst20[Worst20.afinn_adjusted<0].count()\n",
    "Worst20[Worst20.afinn_adjusted<0]"
   ]
  },
  {
   "cell_type": "markdown",
   "id": "02e50cea",
   "metadata": {},
   "source": [
    "### Export outliers of Worst 20"
   ]
  },
  {
   "cell_type": "code",
   "execution_count": 275,
   "id": "c5e544dc",
   "metadata": {},
   "outputs": [],
   "source": [
    "Worst20[Worst20.Z_score >2].Comments.to_csv('Worst20_outliers.csv')"
   ]
  },
  {
   "cell_type": "markdown",
   "id": "6aea6ad2",
   "metadata": {},
   "source": [
    "# Analysis"
   ]
  },
  {
   "cell_type": "markdown",
   "id": "d776664c",
   "metadata": {},
   "source": [
    "### Whole data visulization"
   ]
  },
  {
   "cell_type": "code",
   "execution_count": 218,
   "id": "0e99a735",
   "metadata": {},
   "outputs": [
    {
     "data": {
      "image/png": "[encoded data removed]",
      "text/plain": [
       "<Figure size 432x288 with 2 Axes>"
      ]
     },
     "metadata": {
      "needs_background": "light"
     },
     "output_type": "display_data"
    }
   ],
   "source": [
    "a00=Best20.afinn_adjusted\n",
    "score00=[float(x) for x in a00]\n",
    "a01=Worst20.afinn_adjusted\n",
    "score01=[float(x) for x in a01]\n",
    "fig,ax = plot.subplots(nrows=1,ncols=2)\n",
    "ax[0].set_title('Best 20 total distribution')\n",
    "parts0 = ax[0].violinplot(score00,quantiles=[0.25,0.5,0.75])\n",
    "ax[1].set_title('Worst 20 total distribution')\n",
    "parts1 = ax[1].violinplot(score01,quantiles=[0.25,0.5,0.75])\n",
    "for pc in parts1['bodies']:\n",
    "    pc.set_facecolor('tab:orange')\n",
    "    pc.set_edgecolor('white')\n",
    "    pc.set_alpha(1)"
   ]
  },
  {
   "cell_type": "markdown",
   "id": "aa972403",
   "metadata": {},
   "source": [
    "### Positive comments analysis"
   ]
  },
  {
   "cell_type": "code",
   "execution_count": 219,
   "id": "fc8b6375",
   "metadata": {},
   "outputs": [
    {
     "name": "stdout",
     "output_type": "stream",
     "text": [
      "Best 20 positive comments mean is: 21.820408841812245\n",
      "Best 20 positive comments max is: 110.00000000000001\n",
      "Best 20 positive comments median is: 16.844864809293718\n",
      "Best 20 positive comments min is: 0.7462686567164178\n"
     ]
    }
   ],
   "source": [
    "Bmean=Best20[Best20.afinn_adjusted>0].afinn_adjusted.mean()\n",
    "Bmin=Best20[Best20.afinn_adjusted>0].afinn_adjusted.min()\n",
    "Bmax=Best20[Best20.afinn_adjusted>0].afinn_adjusted.max()\n",
    "Bmedian=Best20[Best20.afinn_adjusted>0].afinn_adjusted.median()\n",
    "Summarise = {'Best 20 positive comments mean is:':Bmean,'Best 20 positive comments max is:':Bmax,'Best 20 positive comments median is:':Bmedian,'Best 20 positive comments min is:':Bmin}\n",
    "for key in Summarise:\n",
    "    print(key,Summarise[key])"
   ]
  },
  {
   "cell_type": "code",
   "execution_count": 220,
   "id": "e6c5af45",
   "metadata": {},
   "outputs": [
    {
     "data": {
      "text/plain": [
       "{'bodies': [<matplotlib.collections.PolyCollection at 0x2a2f36297c0>],\n",
       " 'cmaxes': <matplotlib.collections.LineCollection at 0x2a2f3636850>,\n",
       " 'cmins': <matplotlib.collections.LineCollection at 0x2a2f3636e20>,\n",
       " 'cbars': <matplotlib.collections.LineCollection at 0x2a2f3644220>,\n",
       " 'cquantiles': <matplotlib.collections.LineCollection at 0x2a2f36445e0>}"
      ]
     },
     "execution_count": 220,
     "metadata": {},
     "output_type": "execute_result"
    },
    {
     "data": {
      "image/png": "[encoded data removed]",
      "text/plain": [
       "<Figure size 432x288 with 1 Axes>"
      ]
     },
     "metadata": {
      "needs_background": "light"
     },
     "output_type": "display_data"
    }
   ],
   "source": [
    "a1=Best20[Best20.afinn_adjusted>0].afinn_adjusted\n",
    "score1=[float(x) for x in a1]\n",
    "fig,ax = plot.subplots()\n",
    "ax.set_title('Positive comments of best 20 analysis')\n",
    "ax.violinplot(score1,quantiles=[0.25,0.5,0.75])"
   ]
  },
  {
   "cell_type": "code",
   "execution_count": 221,
   "id": "bffde8b5",
   "metadata": {},
   "outputs": [
    {
     "name": "stdout",
     "output_type": "stream",
     "text": [
      "Worst 20 positive comments mean is: 16.576240819546964\n",
      "Worst 20 positive comments max is: 112.5\n",
      "Worst 20 positive comments median is: 11.45104895104895\n",
      "Worst 20 positive comments min is: 0.4608294930875576\n"
     ]
    }
   ],
   "source": [
    "Wmean=Worst20[Worst20.afinn_adjusted>0].afinn_adjusted.mean()\n",
    "Wmin=Worst20[Worst20.afinn_adjusted>0].afinn_adjusted.min()\n",
    "Wmax=Worst20[Worst20.afinn_adjusted>0].afinn_adjusted.max()\n",
    "Wmedian=Worst20[Worst20.afinn_adjusted>0].afinn_adjusted.median()\n",
    "Summarise = {'Worst 20 positive comments mean is:':Wmean,'Worst 20 positive comments max is:':Wmax,'Worst 20 positive comments median is:':Wmedian,'Worst 20 positive comments min is:':Wmin}\n",
    "for key in Summarise:\n",
    "    print(key,Summarise[key])"
   ]
  },
  {
   "cell_type": "code",
   "execution_count": 222,
   "id": "02a07939",
   "metadata": {},
   "outputs": [
    {
     "data": {
      "text/plain": [
       "{'bodies': [<matplotlib.collections.PolyCollection at 0x2a2f36a7400>],\n",
       " 'cmaxes': <matplotlib.collections.LineCollection at 0x2a2f369c3d0>,\n",
       " 'cmins': <matplotlib.collections.LineCollection at 0x2a2f36a7ac0>,\n",
       " 'cbars': <matplotlib.collections.LineCollection at 0x2a2f36a7e80>,\n",
       " 'cquantiles': <matplotlib.collections.LineCollection at 0x2a2f36b6280>}"
      ]
     },
     "execution_count": 222,
     "metadata": {},
     "output_type": "execute_result"
    },
    {
     "data": {
      "image/png": "[encoded data removed]",
      "text/plain": [
       "<Figure size 432x288 with 1 Axes>"
      ]
     },
     "metadata": {
      "needs_background": "light"
     },
     "output_type": "display_data"
    }
   ],
   "source": [
    "a2=Worst20[Worst20.afinn_adjusted>0].afinn_adjusted\n",
    "score2=[float(x) for x in a2]\n",
    "fig,ax = plot.subplots()\n",
    "ax.set_title('Positive comments of worst 20 analysis')\n",
    "ax.violinplot(score2,quantiles=[0.25,0.5,0.75])"
   ]
  },
  {
   "cell_type": "code",
   "execution_count": 223,
   "id": "487a8677",
   "metadata": {},
   "outputs": [
    {
     "data": {
      "image/png": "[encoded data removed]",
      "text/plain": [
       "<Figure size 432x288 with 2 Axes>"
      ]
     },
     "metadata": {
      "needs_background": "light"
     },
     "output_type": "display_data"
    }
   ],
   "source": [
    "fig,ax = plot.subplots(nrows=1,ncols=2)\n",
    "ax[0].set_title('Positive of best 20')\n",
    "parts0 = ax[0].violinplot(score1,quantiles=[0.25,0.5,0.75])\n",
    "ax[1].set_title('Positive of worst 20')\n",
    "#ax[1].violinplot(score2,quantiles=[0.25,0.5,0.75])\n",
    "parts1 = ax[1].violinplot(score2,quantiles=[0.25,0.5,0.75])\n",
    "for pc in parts1['bodies']:\n",
    "    pc.set_facecolor('tab:orange')\n",
    "    pc.set_edgecolor('white')\n",
    "    pc.set_alpha(1)"
   ]
  },
  {
   "cell_type": "markdown",
   "id": "db502ffc",
   "metadata": {},
   "source": [
    "### Negative comments analysis"
   ]
  },
  {
   "cell_type": "code",
   "execution_count": 224,
   "id": "9e70c7e1",
   "metadata": {},
   "outputs": [
    {
     "name": "stdout",
     "output_type": "stream",
     "text": [
      "Best 20 negative comments mean is: -6.594482069025773\n",
      "Best 20 negative comments max is: -1.694915254237288\n",
      "Best 20 negative comments median is: -4.967948717948717\n",
      "Best 20 negative comments min is: -20.0\n"
     ]
    }
   ],
   "source": [
    "Bmean=Best20[Best20.afinn_adjusted<0].afinn_adjusted.mean()\n",
    "Bmin=Best20[Best20.afinn_adjusted<0].afinn_adjusted.min()\n",
    "Bmax=Best20[Best20.afinn_adjusted<0].afinn_adjusted.max()\n",
    "Bmedian=Best20[Best20.afinn_adjusted<0].afinn_adjusted.median()\n",
    "Summarise = {'Best 20 negative comments mean is:':Bmean,'Best 20 negative comments max is:':Bmax,'Best 20 negative comments median is:':Bmedian,'Best 20 negative comments min is:':Bmin}\n",
    "for key in Summarise:\n",
    "    print(key,Summarise[key])\n"
   ]
  },
  {
   "cell_type": "code",
   "execution_count": 225,
   "id": "5df6c575",
   "metadata": {},
   "outputs": [
    {
     "data": {
      "text/plain": [
       "{'bodies': [<matplotlib.collections.PolyCollection at 0x2a2f37dd640>],\n",
       " 'cmaxes': <matplotlib.collections.LineCollection at 0x2a2f37d05e0>,\n",
       " 'cmins': <matplotlib.collections.LineCollection at 0x2a2f37ddd00>,\n",
       " 'cbars': <matplotlib.collections.LineCollection at 0x2a2f37ec100>,\n",
       " 'cquantiles': <matplotlib.collections.LineCollection at 0x2a2f37ec4c0>}"
      ]
     },
     "execution_count": 225,
     "metadata": {},
     "output_type": "execute_result"
    },
    {
     "data": {
      "image/png": "[encoded data removed]",
      "text/plain": [
       "<Figure size 432x288 with 1 Axes>"
      ]
     },
     "metadata": {
      "needs_background": "light"
     },
     "output_type": "display_data"
    }
   ],
   "source": [
    "a3=Best20[Best20.afinn_adjusted<0].afinn_adjusted\n",
    "score3=[float(x) for x in a3]\n",
    "fig,ax = plot.subplots()\n",
    "ax.set_title('Negative comments of best 20 analysis')\n",
    "ax.violinplot(score3,quantiles=[0.25,0.5,0.75])"
   ]
  },
  {
   "cell_type": "code",
   "execution_count": 226,
   "id": "b96794bd",
   "metadata": {},
   "outputs": [
    {
     "name": "stdout",
     "output_type": "stream",
     "text": [
      "Worst 20 negative comments mean is: -8.016601790240204\n",
      "Worst 20 negative comments max is: -0.5102040816326531\n",
      "Worst 20 negative comments median is: -5.64516129032258\n",
      "Worst 20 negative comments min is: -100.0\n"
     ]
    }
   ],
   "source": [
    "Wmean=Worst20[Worst20.afinn_adjusted<0].afinn_adjusted.mean()\n",
    "Wmin=Worst20[Worst20.afinn_adjusted<0].afinn_adjusted.min()\n",
    "Wmax=Worst20[Worst20.afinn_adjusted<0].afinn_adjusted.max()\n",
    "Wmedian=Worst20[Worst20.afinn_adjusted<0].afinn_adjusted.median()\n",
    "Summarise = {'Worst 20 negative comments mean is:':Wmean,'Worst 20 negative comments max is:':Wmax,'Worst 20 negative comments median is:':Wmedian,'Worst 20 negative comments min is:':Wmin}\n",
    "for key in Summarise:\n",
    "    print(key,Summarise[key])"
   ]
  },
  {
   "cell_type": "code",
   "execution_count": 227,
   "id": "2a894ba6",
   "metadata": {},
   "outputs": [
    {
     "data": {
      "text/plain": [
       "{'bodies': [<matplotlib.collections.PolyCollection at 0x2a2f383beb0>],\n",
       " 'cmaxes': <matplotlib.collections.LineCollection at 0x2a2f384a040>,\n",
       " 'cmins': <matplotlib.collections.LineCollection at 0x2a2f3857670>,\n",
       " 'cbars': <matplotlib.collections.LineCollection at 0x2a2f3857a30>,\n",
       " 'cquantiles': <matplotlib.collections.LineCollection at 0x2a2f3857df0>}"
      ]
     },
     "execution_count": 227,
     "metadata": {},
     "output_type": "execute_result"
    },
    {
     "data": {
      "image/png": "[encoded data removed]",
      "text/plain": [
       "<Figure size 432x288 with 1 Axes>"
      ]
     },
     "metadata": {
      "needs_background": "light"
     },
     "output_type": "display_data"
    }
   ],
   "source": [
    "a4=Worst20[Worst20.afinn_adjusted<0].afinn_adjusted\n",
    "score4=[float(x) for x in a4]\n",
    "fig,ax = plot.subplots()\n",
    "ax.set_title('Negative comments of worst 20 analysis')\n",
    "ax.violinplot(score4,quantiles=[0.25,0.5,0.75])"
   ]
  },
  {
   "cell_type": "code",
   "execution_count": 228,
   "id": "0c9bda63",
   "metadata": {},
   "outputs": [
    {
     "data": {
      "image/png": "[encoded data removed]",
      "text/plain": [
       "<Figure size 432x288 with 2 Axes>"
      ]
     },
     "metadata": {
      "needs_background": "light"
     },
     "output_type": "display_data"
    }
   ],
   "source": [
    "fig,ax = plot.subplots(nrows=1,ncols=2)\n",
    "ax[0].set_title('Negative of best 20')\n",
    "parts0 = ax[0].violinplot(score3,quantiles=[0.25,0.5,0.75])\n",
    "ax[1].set_title('Negative of worst 20')\n",
    "parts1 = ax[1].violinplot(score4,quantiles=[0.25,0.5,0.75])\n",
    "for pc in parts1['bodies']:\n",
    "    pc.set_facecolor('tab:orange')\n",
    "    pc.set_edgecolor('white')\n",
    "    pc.set_alpha(1)"
   ]
  },
  {
   "cell_type": "markdown",
   "id": "3ad6eba2",
   "metadata": {},
   "source": [
    "## kde plot"
   ]
  },
  {
   "cell_type": "code",
   "execution_count": 229,
   "id": "dad44281",
   "metadata": {},
   "outputs": [
    {
     "data": {
      "text/plain": [
       "Text(0.5, 1.0, 'Best 20 and Worst 20 total Afinn score distribution')"
      ]
     },
     "execution_count": 229,
     "metadata": {},
     "output_type": "execute_result"
    },
    {
     "data": {
      "image/png": "[encoded data removed]",
      "text/plain": [
       "<Figure size 432x288 with 1 Axes>"
      ]
     },
     "metadata": {
      "needs_background": "light"
     },
     "output_type": "display_data"
    },
    {
     "data": {
      "image/png": "[encoded data removed]",
      "text/plain": [
       "<Figure size 432x288 with 1 Axes>"
      ]
     },
     "metadata": {
      "needs_background": "light"
     },
     "output_type": "display_data"
    }
   ],
   "source": [
    "fig,ax = plot.subplots()\n",
    "score00=pd.Series(score00)\n",
    "score01=pd.Series(score01)\n",
    "fig1 = pd.DataFrame({'Best 20':score00,'Worst 20': score01})\n",
    "ax= fig1.plot.kde()\n",
    "plot.title('Best 20 and Worst 20 total Afinn score distribution')"
   ]
  },
  {
   "cell_type": "code",
   "execution_count": 230,
   "id": "9ff20fca",
   "metadata": {},
   "outputs": [
    {
     "data": {
      "text/plain": [
       "Text(0.5, 1.0, 'Best 20 and Worst 20 Positive Afinn score distribution')"
      ]
     },
     "execution_count": 230,
     "metadata": {},
     "output_type": "execute_result"
    },
    {
     "data": {
      "image/png": "[encoded data removed]",
      "text/plain": [
       "<Figure size 432x288 with 1 Axes>"
      ]
     },
     "metadata": {
      "needs_background": "light"
     },
     "output_type": "display_data"
    },
    {
     "data": {
      "image/png": "[encoded data removed]",
      "text/plain": [
       "<Figure size 432x288 with 1 Axes>"
      ]
     },
     "metadata": {
      "needs_background": "light"
     },
     "output_type": "display_data"
    }
   ],
   "source": [
    "fig,ax = plot.subplots()\n",
    "score1=pd.Series(score1)\n",
    "score2=pd.Series(score2)\n",
    "fig2 = pd.DataFrame({'Best 20':score1,'Worst 20': score2})\n",
    "ax= fig2.plot.kde()\n",
    "plot.title('Best 20 and Worst 20 Positive Afinn score distribution')\n",
    "#ax1= score1.plot.kde()\n",
    "#ax2= score2.plot.kde()"
   ]
  },
  {
   "cell_type": "code",
   "execution_count": 231,
   "id": "668a23a4",
   "metadata": {},
   "outputs": [
    {
     "data": {
      "text/plain": [
       "Text(0.5, 1.0, 'Best 20 and Worst 20 Negative Afinn score distribution')"
      ]
     },
     "execution_count": 231,
     "metadata": {},
     "output_type": "execute_result"
    },
    {
     "data": {
      "image/png": "[encoded data removed]",
      "text/plain": [
       "<Figure size 432x288 with 1 Axes>"
      ]
     },
     "metadata": {
      "needs_background": "light"
     },
     "output_type": "display_data"
    },
    {
     "data": {
      "image/png": "[encoded data removed]",
      "text/plain": [
       "<Figure size 432x288 with 1 Axes>"
      ]
     },
     "metadata": {
      "needs_background": "light"
     },
     "output_type": "display_data"
    }
   ],
   "source": [
    "fig,ax = plot.subplots()\n",
    "score3=pd.Series(score3)\n",
    "score4=pd.Series(score4)\n",
    "fig3 = pd.DataFrame({'Best 20':score3,'Worst 20': score4})\n",
    "ax= fig3.plot.kde()\n",
    "plot.title('Best 20 and Worst 20 Negative Afinn score distribution')\n",
    "#ax1= score3.plot.kde()\n",
    "#ax2= score4.plot.kde()"
   ]
  }
 ],
 "metadata": {
  "kernelspec": {
   "display_name": "Python 3 (ipykernel)",
   "language": "python",
   "name": "python3"
  },
  "language_info": {
   "codemirror_mode": {
    "name": "ipython",
    "version": 3
   },
   "file_extension": ".py",
   "mimetype": "text/x-python",
   "name": "python",
   "nbconvert_exporter": "python",
   "pygments_lexer": "ipython3",
   "version": "3.8.8"
  }
 },
 "nbformat": 4,
 "nbformat_minor": 5
}
